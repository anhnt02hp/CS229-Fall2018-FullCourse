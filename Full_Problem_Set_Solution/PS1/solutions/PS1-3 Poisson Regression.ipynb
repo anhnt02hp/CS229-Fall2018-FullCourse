{
 "cells": [
  {
   "cell_type": "markdown",
   "metadata": {
    "collapsed": true,
    "pycharm": {
     "name": "#%% md\n"
    }
   },
   "source": [
    "## PS1-3 Poisson Regression"
   ]
  },
  {
   "cell_type": "markdown",
   "source": [
    "#### (a)"
   ],
   "metadata": {
    "collapsed": false,
    "pycharm": {
     "name": "#%% md\n"
    }
   }
  },
  {
   "cell_type": "markdown",
   "source": [
    "\\begin{align*}\n",
    "p(y; \\ \\lambda) & = \\frac{e^{- \\lambda} \\ \\lambda^y}{y \\ !} \\\\\n",
    "                & = \\frac{1}{y \\ !} \\exp (y \\log \\lambda - \\lambda) \\\\\n",
    "                & = b(y) \\exp(\\eta^T T(y) - a(\\eta))\n",
    "\\end{align*}\n",
    "\n",
    "where $b(y) = \\frac{1}{y \\ !}$, $T(y) = y$, $\\eta = \\log \\lambda$ and $a(\\eta) = \\exp(\\eta)$."
   ],
   "metadata": {
    "collapsed": false,
    "pycharm": {
     "name": "#%% md\n"
    }
   }
  },
  {
   "cell_type": "markdown",
   "source": [
    "#### (b)"
   ],
   "metadata": {
    "collapsed": false,
    "pycharm": {
     "name": "#%% md\n"
    }
   }
  },
  {
   "cell_type": "markdown",
   "source": [
    "\\begin{align*}\n",
    "\\mathbb{E} [T(y); \\ \\eta] & = \\mathbb{E} [y; \\ \\eta] \\\\\n",
    "                          & = \\lambda \\\\\n",
    "                          & = \\exp (\\eta)\n",
    "\\end{align*}"
   ],
   "metadata": {
    "collapsed": false,
    "pycharm": {
     "name": "#%% md\n"
    }
   }
  },
  {
   "cell_type": "markdown",
   "source": [
    "#### (c)"
   ],
   "metadata": {
    "collapsed": false,
    "pycharm": {
     "name": "#%% md\n"
    }
   }
  },
  {
   "cell_type": "markdown",
   "source": [
    "Recall the design choices of GLM:\n",
    "\n",
    "1. $y \\ \\vert \\ x; \\ \\theta \\sim \\mathrm{ExponentialFamily} (\\eta)$\n",
    "\n",
    "2. $h(x) = \\mathbb{E} [y \\ \\vert \\ x]$\n",
    "\n",
    "3. $\\eta = \\theta^T x$\n",
    "\n",
    "Plug them into $\\ell$:\n",
    "\n",
    "\\begin{align*}\n",
    "\\ell (\\theta) & = \\log p(y^{(i)} \\ \\vert \\ x^{(i)}; \\ \\theta) \\\\\n",
    "              & = \\log b(y^{(i)}) \\exp (\\eta^T T(y^{(i)}) - a(y^{(i)})) \\\\\n",
    "              & = (x^{(i)})^T \\theta y^{(i)} - \\exp (\\theta^T x^{(i)}) - \\log y^{(i)} !\n",
    "\\end{align*}\n",
    "\n",
    "By design choice 2 and 3:\n",
    "\n",
    "\\begin{align*}\n",
    "h(x) & = \\mathbb{E} [y \\ \\vert \\ x] \\\\\n",
    "     & = \\lambda \\\\\n",
    "     & = \\exp (\\eta) \\\\\n",
    "     & = \\exp (\\theta^T x)\n",
    "\\end{align*}\n",
    "\n",
    "Therefore,\n",
    "\n",
    "\\begin{align*}\n",
    "\\frac{\\partial}{\\partial \\theta}\\ell (\\theta) & = x^{(i)} y^{(i)} - x^{(i)} \\exp (\\theta^T x^{(i)}) \\\\\n",
    "                                              & = \\big( y^{(i)} - h_\\theta(x^{(i)}) \\big) \\ x^{(i)}\n",
    "\\end{align*}\n",
    "\n",
    "The stochastic gradient ascent update rule is:\n",
    "\n",
    "$$\\theta := \\theta + \\alpha \\ \\big( y^{(i)} - h_\\theta (x^{(i)}) \\big) \\ x^{(i)}$$"
   ],
   "metadata": {
    "collapsed": false,
    "pycharm": {
     "name": "#%% md\n"
    }
   }
  },
  {
   "cell_type": "markdown",
   "source": [
    "#### (d)"
   ],
   "metadata": {
    "collapsed": false,
    "pycharm": {
     "name": "#%% md\n"
    }
   }
  },
  {
   "cell_type": "code",
   "source": [
    "import matplotlib.pyplot as plt\n",
    "import numpy as np\n",
    "import cs229_2018_autumn.problem_sets.PS1.src.util as util\n",
    "from cs229_2018_autumn.problem_sets.PS1.src.linear_model import LinearModel"
   ],
   "metadata": {
    "collapsed": false,
    "pycharm": {
     "name": "#%% code\n"
    },
    "ExecuteTime": {
     "end_time": "2025-03-07T11:19:12.692778Z",
     "start_time": "2025-03-07T11:19:12.478858Z"
    }
   },
   "outputs": [],
   "execution_count": 1
  },
  {
   "cell_type": "code",
   "source": [
    "x_train, y_train = util.load_dataset('/home/anhnt02/Desktop/learning/computer_vision/CS229/cs229_2018_autumn/problem_sets/PS1/data/ds4_train.csv', add_intercept=True)\n",
    "x_valid, y_valid = util.load_dataset('/home/anhnt02/Desktop/learning/computer_vision/CS229/cs229_2018_autumn/problem_sets/PS1/data/ds4_valid.csv', add_intercept=True)"
   ],
   "metadata": {
    "collapsed": false,
    "pycharm": {
     "name": "#%% code\n"
    },
    "ExecuteTime": {
     "end_time": "2025-03-07T11:19:12.887467Z",
     "start_time": "2025-03-07T11:19:12.852651Z"
    }
   },
   "outputs": [],
   "execution_count": 2
  },
  {
   "cell_type": "markdown",
   "source": [
    "Implement Poisson Regression:"
   ],
   "metadata": {
    "collapsed": false,
    "pycharm": {
     "name": "#%% md\n"
    }
   }
  },
  {
   "cell_type": "code",
   "source": [
    "class PoissonRegression(LinearModel):\n",
    "    \"\"\"Poisson Regression.\n",
    "\n",
    "    Example usage:\n",
    "        > clf = PoissonRegression(step_size=lr)\n",
    "        > clf.fit(x_train, y_train)\n",
    "        > clf.predict(x_eval)\n",
    "    \"\"\"\n",
    "\n",
    "    def h(self, theta, x):\n",
    "        \"\"\"Vectorized implementation of h.\n",
    "\n",
    "        :param theta: Shape (n,).\n",
    "        :param x:     Training example inputs. Shape (m, n).\n",
    "        :return:      The hypothesis of Poisson Regression, given by h(x) = exp(theta^T x). Shape (m,).\n",
    "        \"\"\"\n",
    "        return np.exp(x @ theta)\n",
    "\n",
    "    def fit(self, x, y):\n",
    "        \"\"\"Run gradient ascent to maximize likelihood for Poisson regression.\n",
    "\n",
    "        :param x: Training example inputs. Shape (m, n).\n",
    "        :param y: Training example labels. Shape (m,).\n",
    "        \"\"\"\n",
    "\n",
    "        def next_step(theta):\n",
    "            return self.step_size / m * x.T @ (y - self.h(theta, x))\n",
    "\n",
    "        m, n = x.shape\n",
    "\n",
    "        # Initialize theta\n",
    "        if self.theta is None:\n",
    "            theta = np.zeros(n)\n",
    "        else:\n",
    "            theta = self.theta\n",
    "\n",
    "        # Update theta\n",
    "        step = next_step(theta)\n",
    "        while np.linalg.norm(step, 1) >= self.eps:\n",
    "            theta += step\n",
    "            step = next_step(theta)\n",
    "\n",
    "        self.theta = theta\n",
    "        print(self.theta)\n",
    "\n",
    "    def predict(self, x):\n",
    "        \"\"\"Make a prediction given inputs x.\n",
    "\n",
    "        :param x: Inputs of shape (m, n).\n",
    "        :return   Floating-point prediction for each input, shape (m,).\n",
    "        \"\"\"\n",
    "\n",
    "        return self.h(self.theta, x)"
   ],
   "metadata": {
    "collapsed": false,
    "pycharm": {
     "name": "#%% code\n"
    },
    "ExecuteTime": {
     "end_time": "2025-03-07T11:19:12.909883Z",
     "start_time": "2025-03-07T11:19:12.902982Z"
    }
   },
   "outputs": [],
   "execution_count": 3
  },
  {
   "cell_type": "markdown",
   "source": [
    "Tune the learning rate and train the Poisson Regression model:"
   ],
   "metadata": {
    "collapsed": false,
    "pycharm": {
     "name": "#%% md\n"
    }
   }
  },
  {
   "cell_type": "code",
   "source": [
    "clf = PoissonRegression(step_size=2e-7)\n",
    "clf.fit(x_train, y_train)"
   ],
   "metadata": {
    "collapsed": false,
    "pycharm": {
     "name": "#%% code\n"
    },
    "ExecuteTime": {
     "end_time": "2025-03-07T11:19:12.996429Z",
     "start_time": "2025-03-07T11:19:12.960010Z"
    }
   },
   "outputs": [
    {
     "name": "stdout",
     "output_type": "stream",
     "text": [
      "[7.36648418 3.93325538 3.4332288  2.00011328 4.40022962]\n"
     ]
    }
   ],
   "execution_count": 4
  },
  {
   "cell_type": "markdown",
   "source": [
    "Plot the predictions on training set:"
   ],
   "metadata": {
    "collapsed": false,
    "pycharm": {
     "name": "#%% md\n"
    }
   }
  },
  {
   "cell_type": "code",
   "source": [
    "def plot(y_label, y_pred, title):\n",
    "    plt.plot(y_label, 'go', label='label')\n",
    "    plt.plot(y_pred, 'rx', label='prediction')\n",
    "    plt.suptitle(title, fontsize=12)\n",
    "    plt.legend(loc='upper left')"
   ],
   "metadata": {
    "collapsed": false,
    "pycharm": {
     "name": "#%% code\n"
    },
    "ExecuteTime": {
     "end_time": "2025-03-07T11:19:13.016251Z",
     "start_time": "2025-03-07T11:19:13.010230Z"
    }
   },
   "outputs": [],
   "execution_count": 5
  },
  {
   "cell_type": "code",
   "source": [
    "y_train_pred = clf.predict(x_train)\n",
    "plot(y_train, y_train_pred, 'Training Set')"
   ],
   "metadata": {
    "collapsed": false,
    "pycharm": {
     "name": "#%% code\n"
    },
    "ExecuteTime": {
     "end_time": "2025-03-07T11:19:13.226930Z",
     "start_time": "2025-03-07T11:19:13.060377Z"
    }
   },
   "outputs": [
    {
     "data": {
      "text/plain": [
       "<Figure size 432x288 with 1 Axes>"
      ],
      "image/png": "[encoded data removed]"
     },
     "metadata": {
      "needs_background": "light"
     },
     "output_type": "display_data"
    }
   ],
   "execution_count": 6
  },
  {
   "cell_type": "markdown",
   "source": [
    "Plot the predictions on validation set:"
   ],
   "metadata": {
    "collapsed": false,
    "pycharm": {
     "name": "#%% md\n"
    }
   }
  },
  {
   "cell_type": "code",
   "source": [
    "y_valid_pred = clf.predict(x_valid)\n",
    "plot(y_valid, y_valid_pred, 'Validation Set')"
   ],
   "metadata": {
    "collapsed": false,
    "pycharm": {
     "name": "#%% code\n"
    },
    "ExecuteTime": {
     "end_time": "2025-03-07T11:19:13.399124Z",
     "start_time": "2025-03-07T11:19:13.247828Z"
    }
   },
   "outputs": [
    {
     "data": {
      "text/plain": [
       "<Figure size 432x288 with 1 Axes>"
      ],
      "image/png": "[encoded data removed]"
     },
     "metadata": {
      "needs_background": "light"
     },
     "output_type": "display_data"
    }
   ],
   "execution_count": 7
  }
 ],
 "metadata": {
  "kernelspec": {
   "name": "python3",
   "language": "python",
   "display_name": "Python 3"
  },
  "language_info": {
   "codemirror_mode": {
    "name": "ipython",
    "version": 2
   },
   "file_extension": ".py",
   "mimetype": "text/x-python",
   "name": "python",
   "nbconvert_exporter": "python",
   "pygments_lexer": "ipython2",
   "version": "2.7.6"
  }
 },
 "nbformat": 4,
 "nbformat_minor": 0
}
