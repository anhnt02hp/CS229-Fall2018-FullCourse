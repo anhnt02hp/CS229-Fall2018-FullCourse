{
 "cells": [
  {
   "metadata": {
    "collapsed": true
   },
   "cell_type": "markdown",
   "source": "# PS4-4: Independent Components Analysis (ICA)",
   "id": "7fdbc07cbee2394f"
  },
  {
   "metadata": {},
   "cell_type": "markdown",
   "source": "## Import Library",
   "id": "7c68ddafe7bde71"
  },
  {
   "metadata": {
    "ExecuteTime": {
     "end_time": "2025-08-30T09:25:24.323454Z",
     "start_time": "2025-08-30T09:25:24.317005Z"
    }
   },
   "cell_type": "code",
   "source": [
    "import numpy as np\n",
    "import scipy.io.wavfile\n",
    "import os\n",
    "\n",
    "from scipy.misc import derivative"
   ],
   "id": "f2cc36a2ba90c8f8",
   "outputs": [],
   "execution_count": 24
  },
  {
   "metadata": {},
   "cell_type": "markdown",
   "source": "## Global Parameter",
   "id": "301c985589651527"
  },
  {
   "metadata": {
    "ExecuteTime": {
     "end_time": "2025-08-30T09:25:24.376488Z",
     "start_time": "2025-08-30T09:25:24.372509Z"
    }
   },
   "cell_type": "code",
   "source": "Fs = 11025",
   "id": "f20c8755efad1dda",
   "outputs": [],
   "execution_count": 25
  },
  {
   "metadata": {},
   "cell_type": "markdown",
   "source": "## Training ICA Model",
   "id": "50431d2eed91ba23"
  },
  {
   "metadata": {},
   "cell_type": "markdown",
   "source": "### Training Algorithm",
   "id": "f51084bd2f92f41a"
  },
  {
   "metadata": {
    "ExecuteTime": {
     "end_time": "2025-08-30T09:25:24.433345Z",
     "start_time": "2025-08-30T09:25:24.426847Z"
    }
   },
   "cell_type": "code",
   "source": [
    "def update_W(W, x, learning_rate):\n",
    "    \"\"\"\n",
    "    Perform a gradient ascent update on W using data element x and the provided learning rate.\n",
    "\n",
    "    This function should return the updated W.\n",
    "\n",
    "    Use the laplace distribution in this problem.\n",
    "\n",
    "    Args:\n",
    "        W: The W matrix for ICA\n",
    "        x: A single data element\n",
    "        learning_rate: The learning rate to use\n",
    "\n",
    "    Returns:\n",
    "        The updated W\n",
    "    \"\"\"\n",
    "\n",
    "    # *** START CODE HERE ***\n",
    "    # Ensure x is in 2D not 1D\n",
    "    x = x.reshape(-1, 1) #Column vector\n",
    "\n",
    "    # 1. Derivative of Log-Likelihood\n",
    "    deri_ll = np.linalg.inv(W).T - np.sign(W @ x) @ x.T\n",
    "\n",
    "    # 2. Update W\n",
    "    W += learning_rate * deri_ll\n",
    "    # *** END CODE HERE ***\n",
    "\n",
    "    return W"
   ],
   "id": "c76c3b54d6363047",
   "outputs": [],
   "execution_count": 26
  },
  {
   "metadata": {
    "ExecuteTime": {
     "end_time": "2025-08-30T09:25:24.487838Z",
     "start_time": "2025-08-30T09:25:24.482160Z"
    }
   },
   "cell_type": "code",
   "source": [
    "def unmix(X, W):\n",
    "    \"\"\"\n",
    "    Unmix an X matrix according to W using ICA.\n",
    "\n",
    "    Args:\n",
    "        X: The data matrix\n",
    "        W: The W for ICA\n",
    "\n",
    "    Returns:\n",
    "        A numpy array S containing the split data\n",
    "    \"\"\"\n",
    "\n",
    "\n",
    "    # *** START CODE HERE ***\n",
    "    S = X @ W.T\n",
    "    # *** END CODE HERE ***\n",
    "\n",
    "    return S"
   ],
   "id": "6b29818985577eb4",
   "outputs": [],
   "execution_count": 27
  },
  {
   "metadata": {
    "ExecuteTime": {
     "end_time": "2025-08-30T09:25:24.541805Z",
     "start_time": "2025-08-30T09:25:24.537224Z"
    }
   },
   "cell_type": "code",
   "source": [
    "def normalize(dat):\n",
    "    return 0.99 * dat / np.max(np.abs(dat))"
   ],
   "id": "46b54a508069efb0",
   "outputs": [],
   "execution_count": 28
  },
  {
   "metadata": {
    "ExecuteTime": {
     "end_time": "2025-08-30T09:25:24.596362Z",
     "start_time": "2025-08-30T09:25:24.591874Z"
    }
   },
   "cell_type": "code",
   "source": [
    "def load_data():\n",
    "    mix = np.loadtxt('/home/anhnt02/Desktop/CS229-Fall2018-FullCourse/Full_Problem_Set/PS4/data/mix.dat')\n",
    "    return mix"
   ],
   "id": "25a74b4eda72422c",
   "outputs": [],
   "execution_count": 29
  },
  {
   "metadata": {
    "ExecuteTime": {
     "end_time": "2025-08-30T09:25:24.649204Z",
     "start_time": "2025-08-30T09:25:24.645072Z"
    }
   },
   "cell_type": "code",
   "source": [
    "def save_W(W):\n",
    "    np.savetxt('/home/anhnt02/Desktop/CS229-Fall2018-FullCourse/Full_Problem_Set_Solution/PS4/output/W.txt',W)"
   ],
   "id": "cec9efcb789b53d4",
   "outputs": [],
   "execution_count": 30
  },
  {
   "metadata": {
    "ExecuteTime": {
     "end_time": "2025-08-30T09:25:24.708289Z",
     "start_time": "2025-08-30T09:25:24.701643Z"
    }
   },
   "cell_type": "code",
   "source": [
    "def save_sound(audio, name):\n",
    "    scipy.io.wavfile.write('/home/anhnt02/Desktop/CS229-Fall2018-FullCourse/Full_Problem_Set_Solution/PS4/output/{}.wav'.format(name), Fs, audio)"
   ],
   "id": "ad5f39d359239d76",
   "outputs": [],
   "execution_count": 31
  },
  {
   "metadata": {
    "ExecuteTime": {
     "end_time": "2025-08-30T09:25:24.766591Z",
     "start_time": "2025-08-30T09:25:24.757796Z"
    }
   },
   "cell_type": "code",
   "source": [
    "def unmixer(X):\n",
    "    M, N = X.shape\n",
    "    W = np.eye(N)\n",
    "\n",
    "    anneal = [0.1 , 0.1, 0.1, 0.05, 0.05, 0.05, 0.02, 0.02, 0.01 , 0.01, 0.005, 0.005, 0.002, 0.002, 0.001, 0.001]\n",
    "    print('Separating tracks ...')\n",
    "    for lr in anneal:\n",
    "        print(lr)\n",
    "        rand = np.random.permutation(range(M))\n",
    "        for i in rand:\n",
    "            x = X[i]\n",
    "            W = update_W(W, x, lr)\n",
    "\n",
    "    return W"
   ],
   "id": "e14819e281f36338",
   "outputs": [],
   "execution_count": 32
  },
  {
   "metadata": {},
   "cell_type": "markdown",
   "source": "### Training Model",
   "id": "3d0c1de5802cdeb8"
  },
  {
   "metadata": {
    "ExecuteTime": {
     "end_time": "2025-08-30T09:25:24.825115Z",
     "start_time": "2025-08-30T09:25:24.814039Z"
    }
   },
   "cell_type": "code",
   "source": [
    "def main():\n",
    "    # Seed the randomness of the simulation so this outputs the same thing each time\n",
    "    np.random.seed(0)\n",
    "    X = normalize(load_data())\n",
    "\n",
    "    print(X.shape)\n",
    "\n",
    "    for i in range(X.shape[1]):\n",
    "        save_sound(X[:, i], 'mixed_{}'.format(i))\n",
    "\n",
    "    W = unmixer(X)\n",
    "    print(W)\n",
    "    save_W(W)\n",
    "    S = normalize(unmix(X, W))\n",
    "    assert S.shape[1] == 5\n",
    "    for i in range(S.shape[1]):\n",
    "        if os.path.exists('split_{}'.format(i)):\n",
    "            os.unlink('split_{}'.format(i))\n",
    "        save_sound(S[:, i], 'split_{}'.format(i))"
   ],
   "id": "d40ca2d4da490971",
   "outputs": [],
   "execution_count": 33
  },
  {
   "metadata": {
    "ExecuteTime": {
     "end_time": "2025-08-30T09:25:53.193627Z",
     "start_time": "2025-08-30T09:25:24.878885Z"
    }
   },
   "cell_type": "code",
   "source": "main()",
   "id": "3460f49e5aef6725",
   "outputs": [
    {
     "name": "stdout",
     "output_type": "stream",
     "text": [
      "(53442, 5)\n",
      "Separating tracks ...\n",
      "0.1\n",
      "0.1\n",
      "0.1\n",
      "0.05\n",
      "0.05\n",
      "0.05\n",
      "0.02\n",
      "0.02\n",
      "0.01\n",
      "0.01\n",
      "0.005\n",
      "0.005\n",
      "0.002\n",
      "0.002\n",
      "0.001\n",
      "0.001\n",
      "[[ 52.83418582  16.79558913  19.9407634  -10.19839844 -20.89724663]\n",
      " [ -9.93900225  -0.9813516   -4.68210573   8.04543479   1.79112857]\n",
      " [  8.31207077  -7.47564159  19.31468744  15.17352441 -14.32549324]\n",
      " [-14.66671561 -26.6440192    2.44079575  21.38118848  -8.42042467]\n",
      " [ -0.26929148  18.37388528   9.31215636   9.10251049  30.59383101]]\n"
     ]
    }
   ],
   "execution_count": 34
  },
  {
   "metadata": {
    "ExecuteTime": {
     "end_time": "2025-08-30T09:25:53.319706Z",
     "start_time": "2025-08-30T09:25:53.312036Z"
    }
   },
   "cell_type": "code",
   "source": "",
   "id": "a473267347277171",
   "outputs": [],
   "execution_count": null
  },
  {
   "metadata": {
    "ExecuteTime": {
     "end_time": "2025-08-30T09:25:53.385249Z",
     "start_time": "2025-08-30T09:25:53.381832Z"
    }
   },
   "cell_type": "code",
   "source": "",
   "id": "4c9f16e7cd1c51c5",
   "outputs": [],
   "execution_count": null
  }
 ],
 "metadata": {
  "kernelspec": {
   "display_name": "Python 3",
   "language": "python",
   "name": "python3"
  },
  "language_info": {
   "codemirror_mode": {
    "name": "ipython",
    "version": 2
   },
   "file_extension": ".py",
   "mimetype": "text/x-python",
   "name": "python",
   "nbconvert_exporter": "python",
   "pygments_lexer": "ipython2",
   "version": "2.7.6"
  }
 },
 "nbformat": 4,
 "nbformat_minor": 5
}
