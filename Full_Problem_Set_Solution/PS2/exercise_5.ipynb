{
 "cells": [
  {
   "metadata": {},
   "cell_type": "markdown",
   "source": "# PS2-5: Kernelizing the Perceptron",
   "id": "150f4264d60aee02"
  },
  {
   "metadata": {},
   "cell_type": "markdown",
   "source": "## Import Library",
   "id": "f8ee4ba65d82f6d5"
  },
  {
   "metadata": {
    "ExecuteTime": {
     "end_time": "2025-07-08T03:55:00.467685Z",
     "start_time": "2025-07-08T03:54:59.501996Z"
    }
   },
   "cell_type": "code",
   "source": [
    "import numpy as np\n",
    "\n",
    "import Full_Problem_Set.PS2.src.util as util"
   ],
   "id": "e8bf4a4e4b2387e5",
   "outputs": [],
   "execution_count": 1
  },
  {
   "metadata": {},
   "cell_type": "markdown",
   "source": "## Load Dataset",
   "id": "47dcb0d78f399355"
  },
  {
   "metadata": {},
   "cell_type": "code",
   "outputs": [],
   "execution_count": null,
   "source": [
    "#Training Set\n",
    "\n",
    "#Test Set\n"
   ],
   "id": "5ad21fb375db480f"
  },
  {
   "metadata": {},
   "cell_type": "markdown",
   "source": "## b) Implement the initial state, predict, and update state methods",
   "id": "dac6c7ca7148d155"
  },
  {
   "metadata": {},
   "cell_type": "code",
   "outputs": [],
   "execution_count": null,
   "source": [
    "def sign(a):\n",
    "    \"\"\"Gets the sign of a scalar input.\"\"\"\n",
    "    if a >= 0:\n",
    "        return 1\n",
    "    else:\n",
    "        return 0"
   ],
   "id": "3980e213c3f38140"
  },
  {
   "metadata": {},
   "cell_type": "code",
   "outputs": [],
   "execution_count": null,
   "source": [
    "def initial_state():\n",
    "    \"\"\"Return the initial state for the perceptron.\n",
    "\n",
    "    This function computes and then returns the initial state of the perceptron.\n",
    "    Feel free to use any data type (dicts, lists, tuples, or custom classes) to\n",
    "    contain the state of the perceptron.\n",
    "\n",
    "    \"\"\"\n",
    "\n",
    "    # *** START CODE HERE ***\n",
    "    #We use dict to easy to develop.\n",
    "    #Form of theta: [(beta_1, x_1), (beta_2, x_2),....,(beta_i, x_i)] => When using Kernel Trick, we can NOT represent theta directly, theta just can be represented as implicitly form of (beta_i, x_i) => We call this type of theta is \"state\" of the perceptron\n",
    "    state = [] #Initialize Empty theta bcs We do NOT know about the size of feature X\n",
    "    return state\n",
    "    # *** END CODE HERE ***"
   ],
   "id": "115e98813accdaf2"
  },
  {
   "metadata": {},
   "cell_type": "code",
   "outputs": [],
   "execution_count": null,
   "source": [
    "def update_state(state, kernel, learning_rate, x_i, y_i):\n",
    "    \"\"\"Updates the state of the perceptron.\n",
    "\n",
    "    Args:\n",
    "        state: The state returned from initial_state()\n",
    "            Form of state: [(beta_1, x_1), (beta_2, x_2),....,(beta_i, x_i)]\n",
    "        kernel: A binary function that takes two vectors as input and returns the result of a kernel\n",
    "        learning_rate: The learning rate for the update\n",
    "        x_i: A vector containing the features for a single instance\n",
    "        y_i: A 0 or 1 indicating the label for a single instance\n",
    "    \"\"\"\n",
    "    # *** START CODE HERE ***\n",
    "    sum_b_k = 0\n",
    "    for j in range(len(state)):\n",
    "        #Access in each element of state\n",
    "        beta_j, x_j = state[j]\n",
    "\n",
    "        #Calculate sum_b_k\n",
    "        sum_b_k += beta_j * kernel(x_j, x_i)\n",
    "\n",
    "    beta_i = learning_rate * (y_i - sign(sum_b_k))\n",
    "    state.append((beta_i, x_i))\n",
    "    # *** END CODE HERE ***"
   ],
   "id": "bfc21dcced8d2aa8"
  },
  {
   "metadata": {},
   "cell_type": "code",
   "outputs": [],
   "execution_count": null,
   "source": [
    "def predict(state, kernel, x_i):\n",
    "    \"\"\"Peform a prediction on a given instance x_i given the current state\n",
    "    and the kernel.\n",
    "\n",
    "    Args:\n",
    "        state: The state returned from initial_state()\n",
    "        kernel: A binary function that takes two vectors as input and returns the result of a kernel\n",
    "        x_i: A vector containing the features for a single instance\n",
    "\n",
    "    Returns:\n",
    "        Returns the prediction (i.e 0 or 1)\n",
    "    \"\"\"\n",
    "    # *** START CODE HERE ***\n",
    "    sum_b_k = 0\n",
    "    for j in range(len(state)):\n",
    "        #Access in each element of state\n",
    "        beta_j, x_j = state[j]\n",
    "\n",
    "        #Calulate temp\n",
    "        sum_b_k += beta_j * kernel(x_j, x_i)\n",
    "\n",
    "    pred = sign(sum_b_k)\n",
    "    return pred\n",
    "    # *** END CODE HERE ***"
   ],
   "id": "3cd99905c196fa7e"
  },
  {
   "metadata": {},
   "cell_type": "code",
   "outputs": [],
   "execution_count": null,
   "source": "",
   "id": "fa5909ea5bd41bb9"
  },
  {
   "metadata": {},
   "cell_type": "code",
   "outputs": [],
   "execution_count": null,
   "source": "",
   "id": "4a5cbbc52de083df"
  }
 ],
 "metadata": {
  "kernelspec": {
   "display_name": "Python 3",
   "language": "python",
   "name": "python3"
  },
  "language_info": {
   "codemirror_mode": {
    "name": "ipython",
    "version": 2
   },
   "file_extension": ".py",
   "mimetype": "text/x-python",
   "name": "python",
   "nbconvert_exporter": "python",
   "pygments_lexer": "ipython2",
   "version": "2.7.6"
  }
 },
 "nbformat": 4,
 "nbformat_minor": 5
}
