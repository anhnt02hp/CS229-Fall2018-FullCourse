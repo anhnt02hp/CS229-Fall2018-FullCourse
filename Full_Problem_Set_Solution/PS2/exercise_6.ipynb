{
 "cells": [
  {
   "metadata": {},
   "cell_type": "markdown",
   "source": "# PS2-6: Spam Classification",
   "id": "1258b2cf767946d9"
  },
  {
   "metadata": {},
   "cell_type": "markdown",
   "source": "## Import Library",
   "id": "48eef591a88519d8"
  },
  {
   "metadata": {
    "ExecuteTime": {
     "end_time": "2025-04-11T18:40:25.456620Z",
     "start_time": "2025-04-11T18:40:25.450351Z"
    }
   },
   "cell_type": "code",
   "source": [
    "import collections\n",
    "from os.path import split\n",
    "\n",
    "import numpy as np\n",
    "\n",
    "import Full_Problem_Set.PS2.src.svm as svm\n",
    "import Full_Problem_Set.PS2.src.util as util"
   ],
   "id": "56660f6de8c7a2c9",
   "outputs": [],
   "execution_count": 628
  },
  {
   "metadata": {},
   "cell_type": "markdown",
   "source": "## Load Dataset",
   "id": "1283d9b1a85e9f29"
  },
  {
   "metadata": {
    "ExecuteTime": {
     "end_time": "2025-04-11T18:40:25.488020Z",
     "start_time": "2025-04-11T18:40:25.478811Z"
    }
   },
   "cell_type": "code",
   "source": [
    "#Train\n",
    "x_train, y_train = util.load_spam_dataset('/home/anhnt02/Desktop/CS229-Fall2018-FullCourse/Full_Problem_Set/PS2/data/ds6_train.tsv')\n",
    "\n",
    "#Valid\n",
    "x_valid, y_valid = util.load_spam_dataset('/home/anhnt02/Desktop/CS229-Fall2018-FullCourse/Full_Problem_Set/PS2/data/ds6_val.tsv')\n",
    "\n",
    "#Test\n",
    "x_test, y_test = util.load_spam_dataset('/home/anhnt02/Desktop/CS229-Fall2018-FullCourse/Full_Problem_Set/PS2/data/ds6_test.tsv')"
   ],
   "id": "b95da51a92bbb213",
   "outputs": [],
   "execution_count": 629
  },
  {
   "metadata": {},
   "cell_type": "markdown",
   "source": "## a) Process Spam messages into Numpy array",
   "id": "8f979eefffe8cf2b"
  },
  {
   "metadata": {},
   "cell_type": "markdown",
   "source": "### 1. Normalization & Splitting",
   "id": "a3dcdacb92ac77d8"
  },
  {
   "metadata": {
    "ExecuteTime": {
     "end_time": "2025-04-11T18:40:25.528675Z",
     "start_time": "2025-04-11T18:40:25.522846Z"
    }
   },
   "cell_type": "code",
   "source": [
    "def get_words(message):\n",
    "    \"\"\"Get the normalized list of words from a message string.\n",
    "\n",
    "    This function should split a message into words, normalize them, and return\n",
    "    the resulting list. For splitting, you should split on spaces. For normalization,\n",
    "    you should convert everything to lowercase.\n",
    "\n",
    "    Args:\n",
    "        message: A string containing an SMS message\n",
    "\n",
    "    Returns:\n",
    "       The list of normalized words from the message.\n",
    "    \"\"\"\n",
    "\n",
    "    # *** START CODE HERE ***\n",
    "    #1. Normalization\n",
    "    lower_message = message.lower()\n",
    "\n",
    "    #2. Splitting\n",
    "    split_message_to_words = lower_message.split()\n",
    "\n",
    "    return split_message_to_words\n",
    "    # *** END CODE HERE ***"
   ],
   "id": "564cbbd13ad8fef5",
   "outputs": [],
   "execution_count": 630
  },
  {
   "metadata": {},
   "cell_type": "markdown",
   "source": "### 2. Create a dictionary mapping words to integer indices",
   "id": "d35da857169d9691"
  },
  {
   "metadata": {
    "ExecuteTime": {
     "end_time": "2025-04-11T18:40:25.590984Z",
     "start_time": "2025-04-11T18:40:25.576347Z"
    }
   },
   "cell_type": "code",
   "source": [
    "def create_dictionary(messages):\n",
    "    \"\"\"Create a dictionary mapping words to integer indices.\n",
    "\n",
    "    This function should create a dictionary of word to indices using the provided\n",
    "    training messages. Use get_words to process each message.\n",
    "\n",
    "    Rare words are often not useful for modeling. Please only add words to the dictionary\n",
    "    if they occur in at least five messages.\n",
    "\n",
    "    Args:\n",
    "        messages: A list of strings containing SMS messages\n",
    "\n",
    "    Returns:\n",
    "        A python dict mapping words to integers.\n",
    "    \"\"\"\n",
    "\n",
    "    # *** START CODE HERE ***\n",
    "    #1. Convert dataset into array\n",
    "    messages_arr = np.array(messages)\n",
    "\n",
    "    #2. Create new dict\n",
    "    dict_word_indices = {}\n",
    "\n",
    "    #3. Convert each message in dataset to array\n",
    "    words_msg_arr = np.empty(len(messages_arr), dtype=object)\n",
    "    for i in range(len(messages_arr)):\n",
    "        words_msg_arr[i] = get_words(messages_arr[i])\n",
    "\n",
    "    #4. Separate words_msg_arr into each word and count the number of them\n",
    "    for i in range(len(words_msg_arr)):\n",
    "        for j in range(len(words_msg_arr[i])):\n",
    "            word = words_msg_arr[i][j]\n",
    "            if word not in dict_word_indices:\n",
    "                dict_word_indices[word] = 1\n",
    "            else:\n",
    "                dict_word_indices[word] += 1\n",
    "\n",
    "    #5. Delete word in dict that has less than 5 times appear\n",
    "    for key, value in list(dict_word_indices.items()):\n",
    "        if value < 5:\n",
    "            del dict_word_indices[key]\n",
    "\n",
    "    return dict_word_indices\n",
    "    # *** END CODE HERE ***"
   ],
   "id": "ef6cb387ce3789d5",
   "outputs": [],
   "execution_count": 631
  },
  {
   "metadata": {},
   "cell_type": "markdown",
   "source": "### 3.",
   "id": "71c16bdd3f748168"
  },
  {
   "metadata": {
    "ExecuteTime": {
     "end_time": "2025-04-11T18:40:25.649182Z",
     "start_time": "2025-04-11T18:40:25.636863Z"
    }
   },
   "cell_type": "code",
   "source": [
    "def transform_text(messages, word_dictionary):\n",
    "    \"\"\"Transform a list of text messages into a numpy array for further processing.\n",
    "\n",
    "    This function should create a numpy array that contains the number of times each word\n",
    "    appears in each message. Each row in the resulting array should correspond to each\n",
    "    message and each column should correspond to a word.\n",
    "\n",
    "    Use the provided word dictionary to map words to column indices. Ignore words that\n",
    "    are not present in the dictionary. Use get_words to get the words for a message.\n",
    "\n",
    "    Args:\n",
    "        messages: A list of strings where each string is an SMS message.\n",
    "        word_dictionary: A python dict mapping words to integers.\n",
    "\n",
    "    Returns:\n",
    "        A numpy array marking the words present in each message.\n",
    "    \"\"\"\n",
    "    # *** START CODE HERE ***\n",
    "    #1. Convert each message into word\n",
    "    word_msg_arr = [None] * len(messages)\n",
    "    for i in range(len(messages)):\n",
    "        word_msg_arr[i] = get_words(messages[i])\n",
    "\n",
    "\n",
    "\n",
    "    # *** END CODE HERE ***"
   ],
   "id": "6f206e5a2f7dbed8",
   "outputs": [],
   "execution_count": 632
  },
  {
   "metadata": {
    "ExecuteTime": {
     "end_time": "2025-04-11T18:40:25.779372Z",
     "start_time": "2025-04-11T18:40:25.698295Z"
    }
   },
   "cell_type": "code",
   "source": [
    "dictionary = create_dictionary(x_train)\n",
    "transform_text(x_train, dictionary)"
   ],
   "id": "18971aff500caae1",
   "outputs": [
    {
     "name": "stdout",
     "output_type": "stream",
     "text": [
      "(4457,)\n"
     ]
    }
   ],
   "execution_count": 633
  },
  {
   "metadata": {
    "ExecuteTime": {
     "end_time": "2025-04-11T18:40:25.793055Z",
     "start_time": "2025-04-11T18:40:25.791053Z"
    }
   },
   "cell_type": "code",
   "source": "",
   "id": "fddfdfadcf7f6d3f",
   "outputs": [],
   "execution_count": null
  }
 ],
 "metadata": {
  "kernelspec": {
   "display_name": "Python 3",
   "language": "python",
   "name": "python3"
  },
  "language_info": {
   "codemirror_mode": {
    "name": "ipython",
    "version": 2
   },
   "file_extension": ".py",
   "mimetype": "text/x-python",
   "name": "python",
   "nbconvert_exporter": "python",
   "pygments_lexer": "ipython2",
   "version": "2.7.6"
  }
 },
 "nbformat": 4,
 "nbformat_minor": 5
}
