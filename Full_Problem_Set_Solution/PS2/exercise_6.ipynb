{
 "cells": [
  {
   "metadata": {},
   "cell_type": "markdown",
   "source": "# PS2-6: Spam Classification",
   "id": "1258b2cf767946d9"
  },
  {
   "metadata": {},
   "cell_type": "markdown",
   "source": "## Import Library",
   "id": "48eef591a88519d8"
  },
  {
   "metadata": {
    "ExecuteTime": {
     "end_time": "2025-04-16T15:21:31.312033Z",
     "start_time": "2025-04-16T15:21:31.306434Z"
    }
   },
   "cell_type": "code",
   "source": [
    "import collections\n",
    "from os.path import split\n",
    "\n",
    "import numpy as np\n",
    "\n",
    "import Full_Problem_Set.PS2.src.svm as svm\n",
    "import Full_Problem_Set.PS2.src.util as util"
   ],
   "id": "56660f6de8c7a2c9",
   "outputs": [],
   "execution_count": 244
  },
  {
   "metadata": {},
   "cell_type": "markdown",
   "source": "## Load Dataset",
   "id": "1283d9b1a85e9f29"
  },
  {
   "metadata": {
    "ExecuteTime": {
     "end_time": "2025-04-16T15:21:31.387696Z",
     "start_time": "2025-04-16T15:21:31.364181Z"
    }
   },
   "cell_type": "code",
   "source": [
    "#Train\n",
    "x_train, y_train = util.load_spam_dataset('/home/anhnt02/Desktop/CS229-Fall2018-FullCourse/Full_Problem_Set/PS2/data/ds6_train.tsv')\n",
    "\n",
    "#Valid\n",
    "x_valid, y_valid = util.load_spam_dataset('/home/anhnt02/Desktop/CS229-Fall2018-FullCourse/Full_Problem_Set/PS2/data/ds6_val.tsv')\n",
    "\n",
    "#Test\n",
    "x_test, y_test = util.load_spam_dataset('/home/anhnt02/Desktop/CS229-Fall2018-FullCourse/Full_Problem_Set/PS2/data/ds6_test.tsv')"
   ],
   "id": "b95da51a92bbb213",
   "outputs": [],
   "execution_count": 245
  },
  {
   "metadata": {},
   "cell_type": "markdown",
   "source": "## a) Process Spam messages into Numpy array",
   "id": "8f979eefffe8cf2b"
  },
  {
   "metadata": {},
   "cell_type": "markdown",
   "source": "### 1. Normalization & Splitting",
   "id": "a3dcdacb92ac77d8"
  },
  {
   "metadata": {
    "ExecuteTime": {
     "end_time": "2025-04-16T15:21:31.426780Z",
     "start_time": "2025-04-16T15:21:31.419166Z"
    }
   },
   "cell_type": "code",
   "source": [
    "def get_words(message):\n",
    "    \"\"\"Get the normalized list of words from a message string.\n",
    "\n",
    "    This function should split a message into words, normalize them, and return\n",
    "    the resulting list. For splitting, you should split on spaces. For normalization,\n",
    "    you should convert everything to lowercase.\n",
    "\n",
    "    Args:\n",
    "        message: A string containing an SMS message\n",
    "\n",
    "    Returns:\n",
    "       The list of normalized words from the message.\n",
    "    \"\"\"\n",
    "\n",
    "    # *** START CODE HERE ***\n",
    "    #1. Normalization\n",
    "    lower_message = message.lower()\n",
    "\n",
    "    #2. Splitting\n",
    "    split_message_to_words = lower_message.split()\n",
    "\n",
    "    return split_message_to_words\n",
    "    # *** END CODE HERE ***"
   ],
   "id": "564cbbd13ad8fef5",
   "outputs": [],
   "execution_count": 246
  },
  {
   "metadata": {},
   "cell_type": "markdown",
   "source": "### 2. Create a dictionary mapping words to integer indices",
   "id": "d35da857169d9691"
  },
  {
   "metadata": {
    "ExecuteTime": {
     "end_time": "2025-04-16T15:21:31.488476Z",
     "start_time": "2025-04-16T15:21:31.475482Z"
    }
   },
   "cell_type": "code",
   "source": [
    "def create_dictionary(messages):\n",
    "    \"\"\"Create a dictionary mapping words to integer indices.\n",
    "\n",
    "    This function should create a dictionary of word to indices using the provided\n",
    "    training messages. Use get_words to process each message.\n",
    "\n",
    "    Rare words are often not useful for modeling. Please only add words to the dictionary\n",
    "    if they occur in at least five messages.\n",
    "\n",
    "    Args:\n",
    "        messages: A list of strings containing SMS messages\n",
    "\n",
    "    Returns:\n",
    "        A python dict mapping words to integers.\n",
    "    \"\"\"\n",
    "\n",
    "    # *** START CODE HERE ***\n",
    "    #1. Convert dataset into array\n",
    "    messages_arr = np.array(messages)\n",
    "\n",
    "    #2. Create new dict\n",
    "    dict_word_indices = {}\n",
    "\n",
    "    #3. Convert each message in dataset to array\n",
    "    words_msg_arr = np.empty(len(messages_arr), dtype=object)\n",
    "    for i in range(len(messages_arr)):\n",
    "        words_msg_arr[i] = get_words(messages_arr[i])\n",
    "\n",
    "    #4. Separate words_msg_arr into each word and count the number of it appears\n",
    "    for i in range(len(words_msg_arr)):\n",
    "        for j in range(len(words_msg_arr[i])):\n",
    "            word = words_msg_arr[i][j]\n",
    "            if word not in dict_word_indices:\n",
    "                dict_word_indices[word] = 1\n",
    "            else:\n",
    "                dict_word_indices[word] += 1\n",
    "\n",
    "    #5. Delete word in dict that has less than 5 times appear\n",
    "    for key, value in list(dict_word_indices.items()):\n",
    "        if value < 5:\n",
    "            del dict_word_indices[key]\n",
    "\n",
    "    #6. Convert \"the number of word appear\" into index (This step is important for retrieve process below)\n",
    "    cnt = -1\n",
    "    for key, value in dict_word_indices.items():\n",
    "        cnt += 1\n",
    "        dict_word_indices[key] = cnt\n",
    "\n",
    "    return dict_word_indices\n",
    "    # *** END CODE HERE ***"
   ],
   "id": "ef6cb387ce3789d5",
   "outputs": [],
   "execution_count": 247
  },
  {
   "metadata": {},
   "cell_type": "markdown",
   "source": "### 3. Generate Feature Matrix",
   "id": "71c16bdd3f748168"
  },
  {
   "metadata": {
    "ExecuteTime": {
     "end_time": "2025-04-16T15:21:31.553700Z",
     "start_time": "2025-04-16T15:21:31.537343Z"
    }
   },
   "cell_type": "code",
   "source": [
    "def transform_text(messages, word_dictionary):\n",
    "    \"\"\"Transform a list of text messages into a numpy array for further processing.\n",
    "\n",
    "    This function should create a numpy array that contains the number of times each word\n",
    "    appears in each message. Each row in the resulting array should correspond to each\n",
    "    message and each column should correspond to a word.\n",
    "\n",
    "    Use the provided word dictionary to map words to column indices. Ignore words that\n",
    "    are not present in the dictionary. Use get_words to get the words for a message.\n",
    "\n",
    "    Args:\n",
    "        messages: A list of strings where each string is an SMS message.\n",
    "        word_dictionary: A python dict mapping words to integers.\n",
    "\n",
    "    Returns:\n",
    "        A numpy array marking the words present in each message.\n",
    "    \"\"\"\n",
    "    # *** START CODE HERE ***\n",
    "    #1. Convert each message into word\n",
    "    word_msg_arr = [None] * len(messages)\n",
    "    for i in range(len(messages)):\n",
    "        word_msg_arr[i] = get_words(messages[i])\n",
    "\n",
    "    #.2 Create matrix feature (row - message[i]; column - dict of word; each entry is the times of word(in dict) appear in each message[i])\n",
    "    feature_matrix = np.zeros((len(messages), len(word_dictionary)))\n",
    "\n",
    "    for i in range(len(word_msg_arr)):\n",
    "        for j in range(len(word_msg_arr[i])):\n",
    "            if word_msg_arr[i][j] in word_dictionary:\n",
    "                key = word_msg_arr[i][j]\n",
    "                value = word_dictionary[key]\n",
    "                feature_matrix[i][value] += 1\n",
    "\n",
    "    return feature_matrix\n",
    "    # *** END CODE HERE ***"
   ],
   "id": "6f206e5a2f7dbed8",
   "outputs": [],
   "execution_count": 248
  },
  {
   "metadata": {},
   "cell_type": "markdown",
   "source": "## b) Implement Naive Bayes classifier for spam classification with Multinomial Event Model",
   "id": "ec4f665bcf8ab7a0"
  },
  {
   "metadata": {},
   "cell_type": "markdown",
   "source": "### 1. Fit Naive Bayes Model",
   "id": "a07a3eca28808ee"
  },
  {
   "metadata": {
    "ExecuteTime": {
     "end_time": "2025-04-16T15:21:31.626920Z",
     "start_time": "2025-04-16T15:21:31.602858Z"
    }
   },
   "cell_type": "code",
   "source": [
    "def fit_naive_bayes_model(matrix, labels):\n",
    "    \"\"\"Fit a naive bayes model.\n",
    "\n",
    "    This function should fit a Naive Bayes model given a training matrix and labels.\n",
    "\n",
    "    The function should return the state of that model.\n",
    "\n",
    "    Feel free to use whatever datatype you wish for the state of the model.\n",
    "\n",
    "    Args:\n",
    "        matrix: A numpy array containing word counts for the training data\n",
    "        labels: The binary (0 or 1) labels for that training data\n",
    "\n",
    "    Returns: The trained model\n",
    "    \"\"\"\n",
    "\n",
    "    # *** START CODE HERE ***\n",
    "    #1. Get feature_matrix shape\n",
    "    m, n = matrix.shape\n",
    "\n",
    "    #-----------------------------------------------------\n",
    "    #2. Calculate Phi_y\n",
    "    #phi_y1\n",
    "    phi_y1 = 0\n",
    "    for i in range(m):\n",
    "        if labels[i] == 1:\n",
    "            phi_y1 += 1 / m * 1\n",
    "\n",
    "    #phi_y0\n",
    "    phi_y0 = 0\n",
    "    for i in range(m):\n",
    "        if labels[i] == 0:\n",
    "            phi_y0 += 1/ m\n",
    "    #-----------------------------------------------------\n",
    "    #3. Calculate Phi_k_y=1\n",
    "    #numerator: Count number of k appear in class y = 1\n",
    "    k_appear_cnt_y1 = np.zeros(n)\n",
    "    for i in range(m):\n",
    "        if labels[i] == 1:\n",
    "            k_appear_cnt_y1 += matrix[i]\n",
    "\n",
    "    #denominator: Count number of word in class y = 1\n",
    "    #METHOD 1: COUNT ALL THE NUMBER OF EACH CLASS Y = 1\n",
    "    # total_word_y1 = 0\n",
    "    # for i in range(m):\n",
    "    #     if labels[i] == 1:\n",
    "    #         for j in range(n):\n",
    "    #             total_word_y1 += matrix[i][j]\n",
    "\n",
    "    #METHOD 2: CLASS 1 JUST CONTAIN ALL WORD IN k_appear_cnt_y1\n",
    "    total_word_y1 = 0\n",
    "    for j in range(n):\n",
    "        total_word_y1 += k_appear_cnt_y1[j]\n",
    "\n",
    "    #Apply Laplace Smoothing\n",
    "    phi_k_y1 = (1 + k_appear_cnt_y1) / (total_word_y1 + n)\n",
    "    #-----------------------------------------------------\n",
    "    #4. Calculate Phi_k_y=0\n",
    "    #numerator: Count number of k appear in class y = 0\n",
    "    k_appear_cnt_y0 = np.zeros(n)\n",
    "    for i in range(m):\n",
    "        if labels[i] == 0:\n",
    "            k_appear_cnt_y0 += matrix[i]\n",
    "\n",
    "    #denominator: Count number of word in class y = 0\n",
    "    total_word_y0 = 0\n",
    "    for j in range(n):\n",
    "        total_word_y0 += k_appear_cnt_y0[j]\n",
    "\n",
    "    #Apply Laplace Smoothing\n",
    "    phi_k_y0 = (1 + k_appear_cnt_y0) / (total_word_y0 + n)\n",
    "    #-----------------------------------------------------\n",
    "\n",
    "    return phi_y1, phi_y0, phi_k_y1, phi_k_y0\n",
    "    # *** END CODE HERE ***"
   ],
   "id": "b4833555ba09b768",
   "outputs": [],
   "execution_count": 249
  },
  {
   "metadata": {},
   "cell_type": "markdown",
   "source": "### 2. Predict Naive Bayes Model",
   "id": "1943c317f94bd96b"
  },
  {
   "metadata": {
    "ExecuteTime": {
     "end_time": "2025-04-16T15:21:31.685812Z",
     "start_time": "2025-04-16T15:21:31.679064Z"
    }
   },
   "cell_type": "code",
   "source": [
    "def predict_from_naive_bayes_model(model, matrix):\n",
    "    \"\"\"Use a Naive Bayes model to compute predictions for a target matrix.\n",
    "\n",
    "    This function should be able to predict on the models that fit_naive_bayes_model\n",
    "    outputs.\n",
    "\n",
    "    Args:\n",
    "        model: A trained model from fit_naive_bayes_model\n",
    "        matrix: A numpy array containing word counts\n",
    "\n",
    "    Returns: A numpy array containing the predictions from the model\n",
    "    \"\"\"\n",
    "    # *** START CODE HERE ***\n",
    "    #1. Parameter\n",
    "    phi_y1, phi_y0, phi_k_y1, phi_k_y0 = model\n",
    "\n",
    "    #2. Predict phase (Compare P(y=1|x) & P(y=0|x))\n",
    "    #METHOD 1: Do not using Matrix\n",
    "    # m, n = matrix.shape\n",
    "    # sum_log = np.zeros(m)\n",
    "    # for i in range(m):\n",
    "    #     for j in range(n):\n",
    "    #         sum_log[i] += matrix[i][j] * np.log(phi_k_y1[j] / phi_k_y0[j])\n",
    "    # return sum_log + np.log(phi_y1 / phi_y0) >= 0\n",
    "\n",
    "    #METHOD 2: Using Matrix\n",
    "    return matrix @ np.log(phi_k_y1 / phi_k_y0) + np.log(phi_y1 / phi_y0) >= 0\n",
    "    # *** END CODE HERE ***"
   ],
   "id": "95b43e76ad0c97d6",
   "outputs": [],
   "execution_count": 250
  },
  {
   "metadata": {},
   "cell_type": "markdown",
   "source": "## c) Obtain 5 most indicative tokens in SPAM Class",
   "id": "43818167f36d0824"
  },
  {
   "metadata": {
    "ExecuteTime": {
     "end_time": "2025-04-16T15:21:31.784555Z",
     "start_time": "2025-04-16T15:21:31.768598Z"
    }
   },
   "cell_type": "code",
   "source": [
    "def get_top_five_naive_bayes_words(model, dictionary):\n",
    "    \"\"\"Compute the top five words that are most indicative of the spam (i.e positive) class.\n",
    "\n",
    "    Ues the metric given in 6c as a measure of how indicative a word is.\n",
    "    Return the words in sorted form, with the most indicative word first.\n",
    "\n",
    "    Args:\n",
    "        model: The Naive Bayes model returned from fit_naive_bayes_model\n",
    "        dictionary: A mapping of word to integer ids\n",
    "\n",
    "    Returns: The top five most indicative words in sorted order with the most indicative first\n",
    "    \"\"\"\n",
    "    # *** START CODE HERE ***\n",
    "    #1. Parameter\n",
    "    _, _, phi_k_y1, phi_k_y0 = model\n",
    "\n",
    "    #2. Compare P(xj=k|y=1) & P(xj=k|y=0)\n",
    "    #Get dictionary length\n",
    "    n = len(dictionary)\n",
    "\n",
    "    #Calculate ratio between y = 1 class and y = 0 class\n",
    "    log_ratio = np.zeros(n)\n",
    "    for j in range(n):\n",
    "        log_ratio[j] = np.log(phi_k_y1[j] / phi_k_y0[j])\n",
    "\n",
    "    #Determine the word that has higher probability in class y = 1\n",
    "    #Create new array to save word in class 1\n",
    "    prob_k_y1 = np.zeros(n)\n",
    "    for j in range(n):\n",
    "        if log_ratio[j] >= 0:\n",
    "            prob_k_y1[j] = log_ratio[j]\n",
    "\n",
    "    #Create new dictionary that contain all words in class y = 1\n",
    "    y1_dict = dictionary.copy()\n",
    "    for key, value in y1_dict.items():\n",
    "        y1_dict[key] = prob_k_y1[value]\n",
    "\n",
    "    #Create key of y1_word (Contain Word in class y = 1)\n",
    "    word_y1 = []\n",
    "    #Create value of y1_word (Contain Probability which response to Word)\n",
    "    prob_y1 = []\n",
    "    for key, value in y1_dict.items():\n",
    "        word_y1.append(key)\n",
    "        prob_y1.append(value)\n",
    "\n",
    "    #Determine top 5 word that has the most probability in class y = 1\n",
    "    #Selection sort\n",
    "    for j in range(n):\n",
    "        idx_max = j\n",
    "        max_prob = prob_y1[j]\n",
    "        most_word = word_y1[j]\n",
    "\n",
    "        #Find max\n",
    "        for k in range(j+1, n):\n",
    "            if prob_y1[k] > max_prob:\n",
    "                idx_max = k\n",
    "                max_prob = prob_y1[k]\n",
    "                most_word = word_y1[k]\n",
    "\n",
    "        #Swap prob\n",
    "        temp_prob = prob_y1[j]\n",
    "        prob_y1[j] = max_prob\n",
    "        prob_y1[idx_max] = temp_prob\n",
    "        #Swap word\n",
    "        temp_word = word_y1[j]\n",
    "        word_y1[j] = most_word\n",
    "        word_y1[idx_max] = temp_word\n",
    "\n",
    "    #Top 5 words appear the most in class y = 1\n",
    "    top_5_word_y1 = []\n",
    "    for j in range(5):\n",
    "        top_5_word_y1.append(word_y1[j])\n",
    "\n",
    "    return top_5_word_y1\n",
    "    # *** END CODE HERE ***"
   ],
   "id": "b4535c099e98a632",
   "outputs": [],
   "execution_count": 251
  },
  {
   "metadata": {
    "ExecuteTime": {
     "end_time": "2025-04-16T15:21:32.317377Z",
     "start_time": "2025-04-16T15:21:31.817308Z"
    }
   },
   "cell_type": "code",
   "source": [
    "dictionary = create_dictionary(x_train)\n",
    "feature_matrix = transform_text(x_train, dictionary)\n",
    "model = fit_naive_bayes_model(feature_matrix, y_train)\n",
    "\n",
    "get_top_five_naive_bayes_words(model, dictionary)"
   ],
   "id": "9a0b7ff0740217cf",
   "outputs": [
    {
     "data": {
      "text/plain": [
       "['claim', 'won', 'prize', 'tone', 'urgent!']"
      ]
     },
     "execution_count": 252,
     "metadata": {},
     "output_type": "execute_result"
    }
   ],
   "execution_count": 252
  },
  {
   "metadata": {
    "ExecuteTime": {
     "end_time": "2025-04-16T15:21:32.352152Z",
     "start_time": "2025-04-16T15:21:32.349511Z"
    }
   },
   "cell_type": "code",
   "source": "",
   "id": "51e8ad0088d0af7c",
   "outputs": [],
   "execution_count": null
  },
  {
   "metadata": {
    "ExecuteTime": {
     "end_time": "2025-04-16T15:21:32.399456Z",
     "start_time": "2025-04-16T15:21:32.396272Z"
    }
   },
   "cell_type": "code",
   "source": "",
   "id": "f2f412aaee9cef77",
   "outputs": [],
   "execution_count": null
  },
  {
   "metadata": {
    "ExecuteTime": {
     "end_time": "2025-04-16T15:21:32.460644Z",
     "start_time": "2025-04-16T15:21:32.457483Z"
    }
   },
   "cell_type": "code",
   "source": "",
   "id": "66e2a289b36a0447",
   "outputs": [],
   "execution_count": null
  },
  {
   "metadata": {
    "ExecuteTime": {
     "end_time": "2025-04-16T15:21:32.519327Z",
     "start_time": "2025-04-16T15:21:32.515529Z"
    }
   },
   "cell_type": "code",
   "source": "",
   "id": "20ad44094df3245c",
   "outputs": [],
   "execution_count": null
  },
  {
   "metadata": {
    "ExecuteTime": {
     "end_time": "2025-04-16T15:21:32.574880Z",
     "start_time": "2025-04-16T15:21:32.572019Z"
    }
   },
   "cell_type": "code",
   "source": "",
   "id": "5024324621dc916f",
   "outputs": [],
   "execution_count": null
  },
  {
   "metadata": {
    "ExecuteTime": {
     "end_time": "2025-04-16T15:21:32.628461Z",
     "start_time": "2025-04-16T15:21:32.625323Z"
    }
   },
   "cell_type": "code",
   "source": "",
   "id": "5bba101e78c85399",
   "outputs": [],
   "execution_count": null
  },
  {
   "metadata": {
    "ExecuteTime": {
     "end_time": "2025-04-16T15:21:32.685035Z",
     "start_time": "2025-04-16T15:21:32.681372Z"
    }
   },
   "cell_type": "code",
   "source": "",
   "id": "f510b95c4711f6e4",
   "outputs": [],
   "execution_count": null
  }
 ],
 "metadata": {
  "kernelspec": {
   "display_name": "Python 3",
   "language": "python",
   "name": "python3"
  },
  "language_info": {
   "codemirror_mode": {
    "name": "ipython",
    "version": 2
   },
   "file_extension": ".py",
   "mimetype": "text/x-python",
   "name": "python",
   "nbconvert_exporter": "python",
   "pygments_lexer": "ipython2",
   "version": "2.7.6"
  }
 },
 "nbformat": 4,
 "nbformat_minor": 5
}
