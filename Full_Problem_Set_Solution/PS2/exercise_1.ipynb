{
 "cells": [
  {
   "metadata": {},
   "cell_type": "markdown",
   "source": "# PS2-1: Logistic Regression: Training Stability",
   "id": "94b1ad1f1ef8f119"
  },
  {
   "metadata": {},
   "cell_type": "markdown",
   "source": "## Import Library",
   "id": "24a0a549876defb7"
  },
  {
   "metadata": {
    "ExecuteTime": {
     "end_time": "2025-05-02T14:37:47.627577Z",
     "start_time": "2025-05-02T14:37:47.620832Z"
    }
   },
   "cell_type": "code",
   "source": [
    "import numpy as np\n",
    "import matplotlib.pyplot as plt\n",
    "\n",
    "import Full_Problem_Set.PS2.src.p01_lr as lr\n",
    "import Full_Problem_Set.PS2.src.util as util"
   ],
   "id": "b784f263d4058596",
   "outputs": [],
   "execution_count": 82
  },
  {
   "metadata": {},
   "cell_type": "markdown",
   "source": "## Load Dataset",
   "id": "d57988d84d45a6bb"
  },
  {
   "metadata": {
    "ExecuteTime": {
     "end_time": "2025-05-02T14:37:47.699808Z",
     "start_time": "2025-05-02T14:37:47.684134Z"
    }
   },
   "cell_type": "code",
   "source": [
    "x_train_a, y_train_a = util.load_csv('/home/anhnt02/Desktop/CS229-Fall2018-FullCourse/Full_Problem_Set/PS2/data/ds1_a.csv', add_intercept=True)\n",
    "\n",
    "x_train_b, y_train_b = util.load_csv('/home/anhnt02/Desktop/CS229-Fall2018-FullCourse/Full_Problem_Set/PS2/data/ds1_b.csv', add_intercept=True)"
   ],
   "id": "257401d06aa57622",
   "outputs": [],
   "execution_count": 83
  },
  {
   "metadata": {},
   "cell_type": "markdown",
   "source": "## Plot dataset",
   "id": "f74d552cb3fec5b"
  },
  {
   "metadata": {
    "ExecuteTime": {
     "end_time": "2025-05-02T14:37:47.782763Z",
     "start_time": "2025-05-02T14:37:47.774148Z"
    }
   },
   "cell_type": "code",
   "source": [
    "def plot_dataset(x_train, y_train, title):\n",
    "    plt.figure()\n",
    "\n",
    "    #Draw x0, x1\n",
    "    plt.plot(x_train[y_train == 1, 1], x_train[y_train == 1, 2], 'bx', linewidth=2)\n",
    "    plt.plot(x_train[y_train == -1, 1], x_train[y_train == -1, 2], 'go', linewidth=2)\n",
    "\n",
    "    #Title\n",
    "    plt.title(title)\n",
    "    #x_axis\n",
    "    plt.xlabel('x0')\n",
    "    #y_axis\n",
    "    plt.ylabel('x1')\n",
    "    plt.show()"
   ],
   "id": "5e2eb74936b91ab0",
   "outputs": [],
   "execution_count": 84
  },
  {
   "metadata": {
    "ExecuteTime": {
     "end_time": "2025-05-02T14:37:48.029004Z",
     "start_time": "2025-05-02T14:37:47.845316Z"
    }
   },
   "cell_type": "code",
   "source": [
    "#Dataset A\n",
    "plot_dataset(x_train_a, y_train_a, 'Dataset A')"
   ],
   "id": "140fe88d0a0c8060",
   "outputs": [
    {
     "data": {
      "text/plain": [
       "<Figure size 432x288 with 1 Axes>"
      ],
      "image/png": "[encoded data removed]"
     },
     "metadata": {
      "needs_background": "light"
     },
     "output_type": "display_data"
    }
   ],
   "execution_count": 85
  },
  {
   "metadata": {
    "ExecuteTime": {
     "end_time": "2025-05-02T14:37:48.266922Z",
     "start_time": "2025-05-02T14:37:48.088187Z"
    }
   },
   "cell_type": "code",
   "source": [
    "#Dataset B\n",
    "plot_dataset(x_train_b, y_train_b, 'Dataset B')"
   ],
   "id": "f10d1bff11774ef4",
   "outputs": [
    {
     "data": {
      "text/plain": [
       "<Figure size 432x288 with 1 Axes>"
      ],
      "image/png": "[encoded data removed]"
     },
     "metadata": {
      "needs_background": "light"
     },
     "output_type": "display_data"
    }
   ],
   "execution_count": 86
  },
  {
   "metadata": {},
   "cell_type": "markdown",
   "source": "## Train 2 models on Dataset A & Dataset B",
   "id": "1f1fb8212e3804e8"
  },
  {
   "metadata": {},
   "cell_type": "markdown",
   "source": "### Fit Dataset to Model",
   "id": "fdb92f539b846548"
  },
  {
   "metadata": {
    "ExecuteTime": {
     "end_time": "2025-05-02T14:37:48.332937Z",
     "start_time": "2025-05-02T14:37:48.325406Z"
    }
   },
   "cell_type": "code",
   "source": [
    "def calc_grad(X, Y, theta):\n",
    "    \"\"\"Compute the gradient of the loss with respect to theta.\"\"\"\n",
    "    m, n = X.shape\n",
    "\n",
    "    margins = Y * X.dot(theta)\n",
    "    probs = 1. / (1 + np.exp(margins))\n",
    "    grad = -(1./m) * (X.T.dot(probs * Y))\n",
    "\n",
    "    return grad"
   ],
   "id": "4a2cb5bacd36bb7c",
   "outputs": [],
   "execution_count": 87
  },
  {
   "metadata": {
    "ExecuteTime": {
     "end_time": "2025-05-02T14:37:48.413072Z",
     "start_time": "2025-05-02T14:37:48.398419Z"
    }
   },
   "cell_type": "code",
   "source": [
    "def logistic_regression(X, Y):\n",
    "    \"\"\"Train a logistic regression model.\"\"\"\n",
    "    m, n = X.shape\n",
    "    theta = np.zeros(n)\n",
    "    learning_rate = 10\n",
    "\n",
    "    i = 0\n",
    "    while True:\n",
    "        i += 1\n",
    "        prev_theta = theta\n",
    "        grad = calc_grad(X, Y, theta)\n",
    "        theta = theta - learning_rate * grad\n",
    "        if i % 10000 == 0:\n",
    "            print('Finished %d iterations' % i)\n",
    "            if i >= 500000:\n",
    "                print('DIVERGENCED!!!')\n",
    "                break\n",
    "        if np.linalg.norm(prev_theta - theta) < 1e-15:\n",
    "            print('Converged in %d iterations' % i)\n",
    "            break\n",
    "    return"
   ],
   "id": "2626f6b007fe4a7c",
   "outputs": [],
   "execution_count": 88
  },
  {
   "metadata": {},
   "cell_type": "markdown",
   "source": "### Training Model",
   "id": "95aac67df7493a52"
  },
  {
   "metadata": {
    "ExecuteTime": {
     "end_time": "2025-05-02T14:38:04.848965Z",
     "start_time": "2025-05-02T14:37:48.473300Z"
    }
   },
   "cell_type": "code",
   "source": [
    "print('==== Training model on data set A ====')\n",
    "logistic_regression(x_train_a, y_train_a)\n",
    "\n",
    "print('\\n==== Training model on data set B ====')\n",
    "logistic_regression(x_train_b, y_train_b)"
   ],
   "id": "54a0ca5eff75d4d3",
   "outputs": [
    {
     "name": "stdout",
     "output_type": "stream",
     "text": [
      "==== Training model on data set A ====\n",
      "Finished 10000 iterations\n",
      "Finished 20000 iterations\n",
      "Finished 30000 iterations\n",
      "Converged in 30395 iterations\n",
      "\n",
      "==== Training model on data set B ====\n",
      "Finished 10000 iterations\n",
      "Finished 20000 iterations\n",
      "Finished 30000 iterations\n",
      "Finished 40000 iterations\n",
      "Finished 50000 iterations\n",
      "Finished 60000 iterations\n",
      "Finished 70000 iterations\n",
      "Finished 80000 iterations\n",
      "Finished 90000 iterations\n",
      "Finished 100000 iterations\n",
      "Finished 110000 iterations\n",
      "Finished 120000 iterations\n",
      "Finished 130000 iterations\n",
      "Finished 140000 iterations\n",
      "Finished 150000 iterations\n",
      "Finished 160000 iterations\n",
      "Finished 170000 iterations\n",
      "Finished 180000 iterations\n",
      "Finished 190000 iterations\n",
      "Finished 200000 iterations\n",
      "Finished 210000 iterations\n",
      "Finished 220000 iterations\n",
      "Finished 230000 iterations\n",
      "Finished 240000 iterations\n",
      "Finished 250000 iterations\n",
      "Finished 260000 iterations\n",
      "Finished 270000 iterations\n",
      "Finished 280000 iterations\n",
      "Finished 290000 iterations\n",
      "Finished 300000 iterations\n",
      "Finished 310000 iterations\n",
      "Finished 320000 iterations\n",
      "Finished 330000 iterations\n",
      "Finished 340000 iterations\n",
      "Finished 350000 iterations\n",
      "Finished 360000 iterations\n",
      "Finished 370000 iterations\n",
      "Finished 380000 iterations\n",
      "Finished 390000 iterations\n",
      "Finished 400000 iterations\n",
      "Finished 410000 iterations\n",
      "Finished 420000 iterations\n",
      "Finished 430000 iterations\n",
      "Finished 440000 iterations\n",
      "Finished 450000 iterations\n",
      "Finished 460000 iterations\n",
      "Finished 470000 iterations\n",
      "Finished 480000 iterations\n",
      "Finished 490000 iterations\n",
      "Finished 500000 iterations\n",
      "DIVERGENCED!!!\n"
     ]
    }
   ],
   "execution_count": 89
  },
  {
   "metadata": {},
   "cell_type": "markdown",
   "source": "## a)",
   "id": "84c3e2820693c2a5"
  },
  {
   "metadata": {},
   "cell_type": "markdown",
   "source": "The algorithms is convergenced in Dataset A, while Dataset B is divergenced.",
   "id": "55034feb4991497a"
  },
  {
   "metadata": {},
   "cell_type": "markdown",
   "source": "## b)",
   "id": "d27d2741ec55c08a"
  },
  {
   "metadata": {
    "ExecuteTime": {
     "end_time": "2025-05-02T14:38:05.054989Z",
     "start_time": "2025-05-02T14:38:05.052474Z"
    }
   },
   "cell_type": "code",
   "source": "",
   "id": "c8bec2d84e0e3bf2",
   "outputs": [],
   "execution_count": null
  },
  {
   "metadata": {
    "ExecuteTime": {
     "end_time": "2025-05-02T14:38:05.132641Z",
     "start_time": "2025-05-02T14:38:05.129956Z"
    }
   },
   "cell_type": "code",
   "source": "",
   "id": "90caa72985a1fe32",
   "outputs": [],
   "execution_count": null
  },
  {
   "metadata": {
    "ExecuteTime": {
     "end_time": "2025-05-02T14:38:05.213044Z",
     "start_time": "2025-05-02T14:38:05.210409Z"
    }
   },
   "cell_type": "code",
   "source": "",
   "id": "57dadd9a2c6821ab",
   "outputs": [],
   "execution_count": null
  },
  {
   "metadata": {
    "ExecuteTime": {
     "end_time": "2025-05-02T14:38:05.286317Z",
     "start_time": "2025-05-02T14:38:05.283793Z"
    }
   },
   "cell_type": "code",
   "source": "",
   "id": "2ac3aeef5c2c3b9a",
   "outputs": [],
   "execution_count": null
  },
  {
   "metadata": {
    "ExecuteTime": {
     "end_time": "2025-05-02T14:38:05.363066Z",
     "start_time": "2025-05-02T14:38:05.360445Z"
    }
   },
   "cell_type": "code",
   "source": "",
   "id": "3d1612a249f84158",
   "outputs": [],
   "execution_count": null
  },
  {
   "metadata": {
    "ExecuteTime": {
     "end_time": "2025-05-02T14:38:05.438711Z",
     "start_time": "2025-05-02T14:38:05.435795Z"
    }
   },
   "cell_type": "code",
   "source": "",
   "id": "f0aee4679551a9c7",
   "outputs": [],
   "execution_count": null
  }
 ],
 "metadata": {
  "kernelspec": {
   "display_name": "Python 3",
   "language": "python",
   "name": "python3"
  },
  "language_info": {
   "codemirror_mode": {
    "name": "ipython",
    "version": 2
   },
   "file_extension": ".py",
   "mimetype": "text/x-python",
   "name": "python",
   "nbconvert_exporter": "python",
   "pygments_lexer": "ipython2",
   "version": "2.7.6"
  }
 },
 "nbformat": 4,
 "nbformat_minor": 5
}
