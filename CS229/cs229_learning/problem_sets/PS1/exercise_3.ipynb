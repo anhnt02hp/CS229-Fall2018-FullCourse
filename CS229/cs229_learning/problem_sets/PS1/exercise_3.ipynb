{
 "cells": [
  {
   "metadata": {},
   "cell_type": "markdown",
   "source": "# PS1-3 Poisson Regression",
   "id": "9bfd269963b6e1c0"
  },
  {
   "metadata": {},
   "cell_type": "markdown",
   "source": "## d. Coding Problem",
   "id": "bc0093075be0d749"
  },
  {
   "metadata": {},
   "cell_type": "markdown",
   "source": "### 1. Import Library",
   "id": "944a1ddf9d0d57d2"
  },
  {
   "metadata": {
    "ExecuteTime": {
     "end_time": "2025-03-15T05:21:08.892755Z",
     "start_time": "2025-03-15T05:21:08.364570Z"
    }
   },
   "cell_type": "code",
   "source": [
    "import math\n",
    "import numpy as np\n",
    "import matplotlib.pyplot as plt\n",
    "\n",
    "import cs229_2018_autumn.problem_sets.PS1.src.util as util\n",
    "from cs229_2018_autumn.problem_sets.PS1.src.linear_model import LinearModel"
   ],
   "id": "3f9771ca3d95e114",
   "outputs": [],
   "execution_count": 1
  },
  {
   "metadata": {},
   "cell_type": "markdown",
   "source": "### 2. Load Dataset",
   "id": "c694c26c88d2f80d"
  },
  {
   "metadata": {
    "ExecuteTime": {
     "end_time": "2025-03-15T05:21:08.984906Z",
     "start_time": "2025-03-15T05:21:08.902856Z"
    }
   },
   "cell_type": "code",
   "source": [
    "x_train, y_train = util.load_dataset('/media/anhnt02/Anhnt02/CloudLinux/computer_vision/CS229/cs229_2018_autumn/problem_sets/PS1/data/ds4_train.csv', add_intercept=True)\n",
    "x_valid, y_valid = util.load_dataset('/media/anhnt02/Anhnt02/CloudLinux/computer_vision/CS229/cs229_2018_autumn/problem_sets/PS1/data/ds4_valid.csv', add_intercept=True)"
   ],
   "id": "a282ada45153c29b",
   "outputs": [],
   "execution_count": 2
  },
  {
   "metadata": {},
   "cell_type": "markdown",
   "source": "### 3. Plot the Traning set",
   "id": "252af7207faaf8fa"
  },
  {
   "metadata": {
    "ExecuteTime": {
     "end_time": "2025-03-15T05:21:09.515348Z",
     "start_time": "2025-03-15T05:21:09.247628Z"
    }
   },
   "cell_type": "code",
   "source": [
    "plt.xlabel('X_feature')\n",
    "plt.ylabel('y')\n",
    "plt.plot(x_train[:, 1:], y_train, 'bx', linewidth=2)\n",
    "plt.show()"
   ],
   "id": "ff0ddd8873ef506e",
   "outputs": [
    {
     "data": {
      "text/plain": [
       "<Figure size 432x288 with 1 Axes>"
      ],
      "image/png": "[encoded data removed]"
     },
     "metadata": {
      "needs_background": "light"
     },
     "output_type": "display_data"
    }
   ],
   "execution_count": 3
  },
  {
   "metadata": {},
   "cell_type": "markdown",
   "source": "### 4. Implement Poisson Regression",
   "id": "b1f51fe78f6457ec"
  },
  {
   "metadata": {
    "ExecuteTime": {
     "end_time": "2025-03-15T05:21:09.604497Z",
     "start_time": "2025-03-15T05:21:09.581879Z"
    }
   },
   "cell_type": "code",
   "source": [
    "class PoissonRegression(LinearModel):\n",
    "    \"\"\"Poisson Regression.\n",
    "\n",
    "    Example usage:\n",
    "        > clf = PoissonRegression(step_size=lr)\n",
    "        > clf.fit(x_train, y_train)\n",
    "        > clf.predict(x_eval)\n",
    "    \"\"\"\n",
    "\n",
    "    #Initinalize Constructor\n",
    "    def __init__(self, step_size):\n",
    "        super(PoissonRegression, self).__init__()\n",
    "        self.step_size = step_size #step_size = learning rate\n",
    "        self.theta = None\n",
    "        self.x = None\n",
    "        self.y = None\n",
    "\n",
    "    #fit data to model\n",
    "    def fit(self, x, y):\n",
    "        \"\"\"Run gradient ascent to maximize likelihood for Poisson regression.\n",
    "\n",
    "        Args:\n",
    "            x: Training example inputs. Shape (m, n).\n",
    "            y: Training example labels. Shape (m,).\n",
    "        \"\"\"\n",
    "        #1. Get Feature Shape\n",
    "        m, n = x.shape\n",
    "\n",
    "        #2. Initialize theta value\n",
    "        if (self.theta is None):\n",
    "            self.theta = np.zeros(n)\n",
    "\n",
    "        #3. Apply formular\n",
    "        ##METHOD 1: Using Batch Gradient Ascent\n",
    "        theta_old = np.ones(n)\n",
    "        while np.linalg.norm(self.theta - theta_old, 1) >= self.eps:\n",
    "            for j in range(n):\n",
    "                theta_old[j] = self.theta[j]\n",
    "                for i in range(m):\n",
    "                    self.theta[j] += self.step_size / m * (x[i][j] * (y[i] - np.exp(self.theta @ x[i])))\n",
    "\n",
    "        ##METHOD 2: USING Stochastic Gradient Ascent\n",
    "        # theta_old = np.ones(n)\n",
    "        # while np.linalg.norm(self.theta - theta_old, 1) >= self.eps:\n",
    "        #     for i in range(m):\n",
    "        #         for j in range(n):\n",
    "        #             theta_old[j] = self.theta[j]\n",
    "        #             self.theta[j] += self.step_size / m * (x[i][j] * (y[i] - np.exp(self.theta @ x[i])))\n",
    "\n",
    "\n",
    "        ##METHOD 3: USING VECTOR MATRIX\n",
    "        # theta_old = np.ones(n)\n",
    "        # while np.linalg.norm(self.theta - theta_old, 1) >= self.step_size:\n",
    "        #     theta_old = self.theta.copy()\n",
    "        #     self.theta += self.step_size / m * x.T @ (y - np.exp(x @ self.theta))\n",
    "\n",
    "        ##Print Theta\n",
    "        theta_size = len(self.theta)\n",
    "        print('Theta: [')\n",
    "        for i in range(theta_size):\n",
    "            print(f'Theta_{i}: {self.theta[i]}')\n",
    "        print(']')\n",
    "    #predict phase\n",
    "    def predict(self, x):\n",
    "        \"\"\"Make a prediction given inputs x.\n",
    "\n",
    "        Args:\n",
    "            x: Inputs of shape (m, n).\n",
    "\n",
    "        Returns:\n",
    "            Floating-point prediction for each input, shape (m,).\n",
    "        \"\"\"\n",
    "        #Tesing time\n",
    "        h = np.exp(x @ self.theta)\n",
    "        return h\n"
   ],
   "id": "98da871b454b8298",
   "outputs": [],
   "execution_count": 4
  },
  {
   "metadata": {},
   "cell_type": "markdown",
   "source": "### 5. Training Model",
   "id": "58ecc066c8ad4b6"
  },
  {
   "metadata": {
    "jupyter": {
     "is_executing": true
    },
    "ExecuteTime": {
     "start_time": "2025-03-15T05:21:09.649834Z"
    }
   },
   "cell_type": "code",
   "source": [
    "clf = PoissonRegression(step_size=2e-7)\n",
    "clf.fit(x_train, y_train)"
   ],
   "id": "8a86157dbf96afde",
   "outputs": [],
   "execution_count": null
  },
  {
   "metadata": {},
   "cell_type": "markdown",
   "source": "### 6. Predict Phase",
   "id": "412dddc718ca66b1"
  },
  {
   "metadata": {
    "ExecuteTime": {
     "end_time": "2025-03-12T15:07:52.075613Z",
     "start_time": "2025-03-12T15:07:52.070772Z"
    }
   },
   "cell_type": "code",
   "source": "y_valid_pred = clf.predict(x_valid)",
   "id": "6f2d8de3325c9944",
   "outputs": [],
   "execution_count": 19
  },
  {
   "metadata": {},
   "cell_type": "markdown",
   "source": "### 7. Report MSE",
   "id": "56ee16cd54d6d807"
  },
  {
   "metadata": {
    "ExecuteTime": {
     "end_time": "2025-03-12T15:07:52.130239Z",
     "start_time": "2025-03-12T15:07:52.121409Z"
    }
   },
   "cell_type": "code",
   "source": [
    "def mean_squared_error(y_true, y_pred):\n",
    "    diff = 0\n",
    "    for i in range(len(y_true)):\n",
    "        diff += (y_true[i] - y_pred[i]) ** 2\n",
    "    return diff / len(y_true)"
   ],
   "id": "8f88ee7834111cd8",
   "outputs": [],
   "execution_count": 20
  },
  {
   "metadata": {
    "ExecuteTime": {
     "end_time": "2025-03-12T15:07:52.187401Z",
     "start_time": "2025-03-12T15:07:52.180947Z"
    }
   },
   "cell_type": "code",
   "source": [
    "#MSE\n",
    "mse_valid = mean_squared_error(y_valid, y_valid_pred)\n",
    "print('VALID: Mean Squared Error:', mse_valid)"
   ],
   "id": "2bdf445c2dfc71fb",
   "outputs": [
    {
     "name": "stdout",
     "output_type": "stream",
     "text": [
      "VALID: Mean Squared Error: 3806424.516446945\n"
     ]
    }
   ],
   "execution_count": 21
  },
  {
   "metadata": {},
   "cell_type": "markdown",
   "source": "### 8. Plot the model prediction",
   "id": "fa46a6c7216e6d07"
  },
  {
   "metadata": {
    "ExecuteTime": {
     "end_time": "2025-03-12T15:07:52.244009Z",
     "start_time": "2025-03-12T15:07:52.236012Z"
    }
   },
   "cell_type": "code",
   "source": [
    "def compare_plot(x, y_label, y_pred, graph_title):\n",
    "    plt.figure()\n",
    "    #plot training set\n",
    "    plt.plot(x[:, -1], y_label, 'bx', linewidth=2, label='label')\n",
    "    #plot predict data\n",
    "    plt.plot(x[:, -1], y_pred, 'ro', linewidth=2, label='predict')\n",
    "    #title of graph\n",
    "    plt.title(graph_title, fontsize=20)\n",
    "    plt.legend(loc='upper left')\n"
   ],
   "id": "ece249f1c853785b",
   "outputs": [],
   "execution_count": 22
  },
  {
   "metadata": {
    "ExecuteTime": {
     "end_time": "2025-03-12T15:07:52.513203Z",
     "start_time": "2025-03-12T15:07:52.291256Z"
    }
   },
   "cell_type": "code",
   "source": "compare_plot(x_valid, y_valid, y_valid_pred, \"Validation vs Predict\")",
   "id": "5652fdb61df1c3f0",
   "outputs": [
    {
     "data": {
      "text/plain": [
       "<Figure size 432x288 with 1 Axes>"
      ],
      "image/png": "[encoded data removed]"
     },
     "metadata": {
      "needs_background": "light"
     },
     "output_type": "display_data"
    }
   ],
   "execution_count": 23
  },
  {
   "metadata": {
    "ExecuteTime": {
     "end_time": "2025-03-12T15:07:52.548521Z",
     "start_time": "2025-03-12T15:07:52.545825Z"
    }
   },
   "cell_type": "code",
   "source": "",
   "id": "836eec0ca3ad91ed",
   "outputs": [],
   "execution_count": null
  }
 ],
 "metadata": {
  "kernelspec": {
   "display_name": "Python 3",
   "language": "python",
   "name": "python3"
  },
  "language_info": {
   "codemirror_mode": {
    "name": "ipython",
    "version": 2
   },
   "file_extension": ".py",
   "mimetype": "text/x-python",
   "name": "python",
   "nbconvert_exporter": "python",
   "pygments_lexer": "ipython2",
   "version": "2.7.6"
  }
 },
 "nbformat": 4,
 "nbformat_minor": 5
}
