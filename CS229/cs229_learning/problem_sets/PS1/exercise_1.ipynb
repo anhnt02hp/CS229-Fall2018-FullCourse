{
 "cells": [
  {
   "metadata": {},
   "cell_type": "markdown",
   "source": "# PS1-1 Linear Classifier (Logistic Regression & GDA)",
   "id": "d17e775de0a4b293"
  },
  {
   "metadata": {},
   "cell_type": "markdown",
   "source": "## b. Coding Problem",
   "id": "e865d670a91850cf"
  },
  {
   "metadata": {},
   "cell_type": "markdown",
   "source": "### 1. Import Library",
   "id": "9dfa233260a3f3a8"
  },
  {
   "metadata": {
    "ExecuteTime": {
     "end_time": "2025-03-16T16:10:32.950839Z",
     "start_time": "2025-03-16T16:10:32.944495Z"
    }
   },
   "cell_type": "code",
   "source": [
    "import numpy as np\n",
    "import matplotlib.pyplot as plt\n",
    "\n",
    "import CS229.cs229_learning.problem_sets.PS1.src.util as util\n",
    "from CS229.cs229_learning.problem_sets.PS1.src.linear_model import LinearModel"
   ],
   "id": "bdc413b1546e6820",
   "outputs": [],
   "execution_count": 3
  },
  {
   "metadata": {},
   "cell_type": "markdown",
   "source": "### 2. Load Dataset",
   "id": "76406d85bc280777"
  },
  {
   "metadata": {
    "ExecuteTime": {
     "end_time": "2025-03-16T16:10:33.016518Z",
     "start_time": "2025-03-16T16:10:32.979832Z"
    }
   },
   "cell_type": "code",
   "source": [
    "x_train, y_train = util.load_dataset('/home/anhnt02/Desktop/Basic_AI_Learning/CS229/cs229_learning/problem_sets/PS1/data/ds1_train.csv', add_intercept = True)\n",
    "x_valid, y_valid = util.load_dataset('/home/anhnt02/Desktop/Basic_AI_Learning/CS229/cs229_learning/problem_sets/PS1/data/ds1_valid.csv', add_intercept = True)"
   ],
   "id": "657f64fb606c664d",
   "outputs": [],
   "execution_count": 4
  },
  {
   "metadata": {},
   "cell_type": "markdown",
   "source": "### 3. Plot the training set",
   "id": "92d8dd5c2923555"
  },
  {
   "metadata": {
    "ExecuteTime": {
     "end_time": "2025-03-16T16:10:33.438440Z",
     "start_time": "2025-03-16T16:10:33.128807Z"
    }
   },
   "cell_type": "code",
   "source": [
    "plt.xlabel('x1')\n",
    "plt.ylabel('x2')\n",
    "plt.plot(x_train[y_train == 1, 1], x_train[y_train == 1, 2] , 'ro', linewidth = 2) #_train[y_train == 1, 1] = for all row that have y = 1, take the 1st column (0th column is 1 because of add intercept)\n",
    "plt.plot(x_train[y_train == 0, 1], x_train[y_train == 0, 2], 'bx', linewidth = 2)\n",
    "plt.show()"
   ],
   "id": "53268e5697fb81bb",
   "outputs": [
    {
     "data": {
      "text/plain": [
       "<Figure size 432x288 with 1 Axes>"
      ],
      "image/png": "[encoded data removed]"
     },
     "metadata": {
      "needs_background": "light"
     },
     "output_type": "display_data"
    }
   ],
   "execution_count": 5
  },
  {
   "metadata": {},
   "cell_type": "markdown",
   "source": "### 4. Implement Logistic Regression using Newton Method",
   "id": "68a59ef4963d02da"
  },
  {
   "metadata": {
    "ExecuteTime": {
     "end_time": "2025-03-16T16:10:33.516553Z",
     "start_time": "2025-03-16T16:10:33.495394Z"
    }
   },
   "cell_type": "code",
   "source": [
    "class LogisticRegression(LinearModel):\n",
    "    \"\"\"Logistic regression with Newton's Method as the solver.\n",
    "\n",
    "    Example usage:\n",
    "        > clf = LogisticRegression()\n",
    "        > clf.fit(x_train, y_train)\n",
    "        > clf.predict(x_eval)\n",
    "    \"\"\"\n",
    "    #Initialize Constructor\n",
    "    def __init__(self):\n",
    "        super(LogisticRegression, self).__init__()\n",
    "        self.theta = None\n",
    "        self.x = None\n",
    "        self.y = None\n",
    "\n",
    "    #Fit data to the Model\n",
    "    def fit(self, x, y):\n",
    "        \"\"\"Run Newton's Method to minimize J(theta) for logistic regression.\n",
    "\n",
    "        Args:++\n",
    "            x: Training example inputs. Shape (m, n).\n",
    "            y: Training example labels. Shape (m,).\n",
    "        \"\"\"\n",
    "        # *** START CODE HERE ***\n",
    "        #1. Get feature shape\n",
    "        m, n = x.shape\n",
    "\n",
    "        #2. Initialize theta value\n",
    "        if (self.theta is None):\n",
    "            self.theta = np.zeros(n)\n",
    "\n",
    "        #3. Apply Formular\n",
    "        ##METHOD 1: NEWTON'S METHOD\n",
    "        # Sigmoid Function\n",
    "        def sigmoid(x, theta):\n",
    "            return 1 / (1 + np.exp(- x @ theta))\n",
    "\n",
    "        # Gradient (Derivative of Cost Function)\n",
    "        def gradient(x, y, theta):\n",
    "            g = sigmoid(x, theta).reshape(-1, 1)\n",
    "            return (x.T @ (g - y.reshape(-1, 1))) / m\n",
    "\n",
    "        #Hessian matrix\n",
    "        def hessian_matrix(x, theta):\n",
    "            g = sigmoid(x, theta).reshape(-1, 1)\n",
    "            return 1 / m * x.T @ (x * g * (1 - g))\n",
    "\n",
    "        #Apply formular\n",
    "        theta_old = np.ones(n)\n",
    "        while np.linalg.norm(theta_old - self.theta, 1) >= self.eps:\n",
    "            self.theta = self.theta.reshape(-1, 1)\n",
    "            theta_old = self.theta.copy()\n",
    "            self.theta -= np.linalg.inv(hessian_matrix(x, self.theta)) @ gradient(x, y, self.theta)\n",
    "\n",
    "    def predict(self, x):\n",
    "        \"\"\"Make a prediction given new inputs x.\n",
    "\n",
    "        Args:\n",
    "            x: Inputs of shape (m, n).\n",
    "\n",
    "        Returns:\n",
    "            Outputs of shape (m,).\n",
    "        \"\"\"\n",
    "        g = 1 / (1 + np.exp(- x @ self.theta))\n",
    "        return g >= 0.5\n"
   ],
   "id": "907ff1832d05735b",
   "outputs": [],
   "execution_count": 6
  },
  {
   "metadata": {},
   "cell_type": "markdown",
   "source": "### 5. Training Model",
   "id": "f1720204eca1fd10"
  },
  {
   "metadata": {
    "ExecuteTime": {
     "end_time": "2025-03-16T16:10:33.573187Z",
     "start_time": "2025-03-16T16:10:33.557680Z"
    }
   },
   "cell_type": "code",
   "source": [
    "clf = LogisticRegression()\n",
    "clf.fit(x_train, y_train)\n",
    "print(\"Theta: \", clf.theta)"
   ],
   "id": "32f56a89051f1649",
   "outputs": [
    {
     "name": "stdout",
     "output_type": "stream",
     "text": [
      "Theta:  [[-6.26018491]\n",
      " [ 2.47707251]\n",
      " [-0.0299125 ]]\n"
     ]
    }
   ],
   "execution_count": 7
  },
  {
   "metadata": {},
   "cell_type": "markdown",
   "source": "### 6. Predict Phase",
   "id": "25944bacf480271c"
  },
  {
   "metadata": {
    "ExecuteTime": {
     "end_time": "2025-03-16T16:10:33.660056Z",
     "start_time": "2025-03-16T16:10:33.651574Z"
    }
   },
   "cell_type": "code",
   "source": [
    "y_train_pred = clf.predict(x_train)\n",
    "y_valid_pred = clf.predict(x_valid)"
   ],
   "id": "a1e1278cb327a0ef",
   "outputs": [],
   "execution_count": 8
  },
  {
   "metadata": {},
   "cell_type": "markdown",
   "source": "### 7. Report Accuracy",
   "id": "91508cdad725e2f0"
  },
  {
   "metadata": {
    "ExecuteTime": {
     "end_time": "2025-03-16T16:10:33.742698Z",
     "start_time": "2025-03-16T16:10:33.731428Z"
    }
   },
   "cell_type": "code",
   "source": [
    "def accuracy_log(y_true, y_pred):\n",
    "    sum_correct = 0\n",
    "    for i in range(len(y_true)):\n",
    "        if(y_pred[i] == y_true[i]):\n",
    "            sum_correct += 1\n",
    "    return sum_correct / len(y_true)"
   ],
   "id": "606360d65f971d6",
   "outputs": [],
   "execution_count": 9
  },
  {
   "metadata": {
    "ExecuteTime": {
     "end_time": "2025-03-16T16:10:33.867826Z",
     "start_time": "2025-03-16T16:10:33.852760Z"
    }
   },
   "cell_type": "code",
   "source": [
    "accuracy_train = accuracy_log(y_train, y_train_pred)\n",
    "print(\"TRAIN: Accuracy: \", accuracy_train)"
   ],
   "id": "2a9f6e6860aeb634",
   "outputs": [
    {
     "name": "stdout",
     "output_type": "stream",
     "text": [
      "TRAIN: Accuracy:  0.8825\n"
     ]
    }
   ],
   "execution_count": 10
  },
  {
   "metadata": {
    "ExecuteTime": {
     "end_time": "2025-03-16T16:10:33.933019Z",
     "start_time": "2025-03-16T16:10:33.925516Z"
    }
   },
   "cell_type": "code",
   "source": [
    "accuracy_valid = accuracy_log(y_valid, y_valid_pred)\n",
    "print(\"VALID: Accuracy: \", accuracy_valid)"
   ],
   "id": "123c0dd8adf06b9c",
   "outputs": [
    {
     "name": "stdout",
     "output_type": "stream",
     "text": [
      "VALID: Accuracy:  0.9\n"
     ]
    }
   ],
   "execution_count": 11
  },
  {
   "metadata": {},
   "cell_type": "markdown",
   "source": "### 8. Plot the model prediction",
   "id": "1ac12a531136f29d"
  },
  {
   "metadata": {
    "ExecuteTime": {
     "end_time": "2025-03-16T16:10:34.189684Z",
     "start_time": "2025-03-16T16:10:33.988745Z"
    }
   },
   "cell_type": "code",
   "source": [
    "util.plot(x_train, y_train, theta=clf.theta)\n",
    "plt.show()"
   ],
   "id": "38e32d2d1bcf81d5",
   "outputs": [
    {
     "data": {
      "text/plain": [
       "<Figure size 432x288 with 1 Axes>"
      ],
      "image/png": "[encoded data removed]"
     },
     "metadata": {
      "needs_background": "light"
     },
     "output_type": "display_data"
    }
   ],
   "execution_count": 12
  },
  {
   "metadata": {
    "ExecuteTime": {
     "end_time": "2025-03-16T16:10:34.471352Z",
     "start_time": "2025-03-16T16:10:34.269534Z"
    }
   },
   "cell_type": "code",
   "source": [
    "util.plot(x_valid, y_valid, theta=clf.theta)\n",
    "plt.show()"
   ],
   "id": "12dba13c71c44635",
   "outputs": [
    {
     "data": {
      "text/plain": [
       "<Figure size 432x288 with 1 Axes>"
      ],
      "image/png": "[encoded data removed]"
     },
     "metadata": {
      "needs_background": "light"
     },
     "output_type": "display_data"
    }
   ],
   "execution_count": 13
  },
  {
   "metadata": {},
   "cell_type": "markdown",
   "source": "## e. Coding Problem",
   "id": "64190b177bcb5a8"
  },
  {
   "metadata": {},
   "cell_type": "markdown",
   "source": "### 1. Import Library",
   "id": "40ef2ec4952764f8"
  },
  {
   "metadata": {
    "ExecuteTime": {
     "end_time": "2025-03-16T16:10:34.522367Z",
     "start_time": "2025-03-16T16:10:34.515439Z"
    }
   },
   "cell_type": "code",
   "source": [
    "import numpy as np\n",
    "import matplotlib.pyplot as plt\n",
    "\n",
    "import CS229.cs229_learning.problem_sets.PS1.src.util as util\n",
    "from CS229.cs229_learning.problem_sets.PS1.src.linear_model import LinearModel"
   ],
   "id": "d14ae85a4713727a",
   "outputs": [],
   "execution_count": 14
  },
  {
   "metadata": {},
   "cell_type": "markdown",
   "source": "### 2. Load Dataset",
   "id": "521ae5d4d3997c72"
  },
  {
   "metadata": {
    "ExecuteTime": {
     "end_time": "2025-03-16T16:10:34.603309Z",
     "start_time": "2025-03-16T16:10:34.571594Z"
    }
   },
   "cell_type": "code",
   "source": [
    "x_train, y_train = util.load_dataset('/home/anhnt02/Desktop/Basic_AI_Learning/CS229/cs229_learning/problem_sets/PS1/data/ds1_train.csv')\n",
    "x_valid, y_valid = util.load_dataset('/home/anhnt02/Desktop/Basic_AI_Learning/CS229/cs229_learning/problem_sets/PS1/data/ds1_valid.csv')"
   ],
   "id": "922935b396d5b246",
   "outputs": [],
   "execution_count": 15
  },
  {
   "metadata": {},
   "cell_type": "markdown",
   "source": "### 3. Plot traning set",
   "id": "ab7ce71802069861"
  },
  {
   "metadata": {
    "ExecuteTime": {
     "end_time": "2025-03-16T16:10:34.905829Z",
     "start_time": "2025-03-16T16:10:34.704120Z"
    }
   },
   "cell_type": "code",
   "source": [
    "plt.xlabel('x1')\n",
    "plt.ylabel('x2')\n",
    "plt.plot(x_train[y_train == 1, 0], x_train[y_train == 1, 1] , 'go', linewidth = 2)\n",
    "plt.plot(x_train[y_train == 0, 0], x_train[y_train == 0, 1] , 'bx', linewidth = 2)\n",
    "plt.show()"
   ],
   "id": "d3b75a8f8b06eeb1",
   "outputs": [
    {
     "data": {
      "text/plain": [
       "<Figure size 432x288 with 1 Axes>"
      ],
      "image/png": "[encoded data removed]"
     },
     "metadata": {
      "needs_background": "light"
     },
     "output_type": "display_data"
    }
   ],
   "execution_count": 16
  },
  {
   "metadata": {},
   "cell_type": "markdown",
   "source": "### 4. Implement GDA Algorithm",
   "id": "7804ade1e9be9f31"
  },
  {
   "metadata": {
    "ExecuteTime": {
     "end_time": "2025-03-16T16:10:34.994440Z",
     "start_time": "2025-03-16T16:10:34.964186Z"
    }
   },
   "cell_type": "code",
   "source": [
    "class GDA(LinearModel):\n",
    "    \"\"\"Gaussian Discriminant Analysis.\n",
    "\n",
    "    Example usage:\n",
    "        > gda = GDA()\n",
    "        > gda.fit(x_train, y_train)\n",
    "        > gda.predict(x_eval)\n",
    "    \"\"\"\n",
    "    #Initialize Constructor\n",
    "    def __init__(self):\n",
    "        super(GDA, self).__init__()\n",
    "        self.phi = None\n",
    "        self.cov = None\n",
    "        self.muy_0 = None\n",
    "        self.muy_1 = None\n",
    "        self.theta = None\n",
    "        self.theta_0 = None\n",
    "        self.x = None\n",
    "        self.y = None\n",
    "\n",
    "    #Fit data to the model\n",
    "    def fit(self, x, y):\n",
    "        \"\"\"Fit a GDA model to training set given by x and y.\n",
    "\n",
    "        Args:\n",
    "            x: Training example inputs. Shape (m, n).\n",
    "            y: Training example labels. Shape (m,).\n",
    "\n",
    "        Returns:\n",
    "            theta: GDA model parameters.\n",
    "        \"\"\"\n",
    "        #1. Get x feature:\n",
    "        m, n = x.shape\n",
    "\n",
    "        #2. Initialize parameter value:\n",
    "        if (self.phi is None) and (self.cov is None) and (self.muy_0 is None) and (self.muy_1 is None) and (self.theta is None) and (self.theta_0 is None):\n",
    "            self.phi = 0 #phi in R\n",
    "            self.cov = np.zeros((n , n)) #cov in Rnn\n",
    "            self.muy_0 = np.zeros(n) #muy_0 in Rn\n",
    "            self.muy_1 = np.zeros(n) #muy_1 in Rn\n",
    "            self.theta = np.zeros(n) #theta is Rn\n",
    "            self.theta_0 = np.zeros(n) #theta_0 is Rn\n",
    "\n",
    "        #3. Apply formular (derivative of each parameter is 0):\n",
    "        #phi\n",
    "        def phi_new():\n",
    "            sum = 0\n",
    "            for i in range(len(y_train)):\n",
    "                if(y_train[i] == 1):\n",
    "                    sum += 1\n",
    "            return sum / m\n",
    "\n",
    "        #muy_0\n",
    "        def muy_0_new(x):\n",
    "            sum_x_i = 0\n",
    "            sum_0 = 0\n",
    "            for i in range(len(y_train)):\n",
    "                if(y_train[i] == 0):\n",
    "                    sum_x_i += x[i]\n",
    "                    sum_0 += 1\n",
    "            return sum_x_i / sum_0\n",
    "\n",
    "        #muy_1\n",
    "        def muy_1_new(x):\n",
    "            sum_x_i = 0\n",
    "            sum_1 = 0\n",
    "            for i in range(len(y_train)):\n",
    "                if(y_train[i] == 1):\n",
    "                    sum_x_i += x[i]\n",
    "                    sum_1 += 1\n",
    "            return sum_x_i / sum_1\n",
    "\n",
    "        #cov\n",
    "        def cov_new(x, y):\n",
    "            #initialize new value of cov\n",
    "            sum_cov = np.zeros((n, n))\n",
    "\n",
    "            for i in range(len(y)):\n",
    "                if(y[i] == 0):\n",
    "                    diff_0 = (x[i] - self.muy_0).reshape(-1, 1)\n",
    "                    sum_cov += diff_0 * diff_0.T\n",
    "                if(y[i] == 1):\n",
    "                    diff_1 = (x[i] - self.muy_1).reshape(-1, 1)\n",
    "                    sum_cov += diff_1 * diff_1.T\n",
    "            return sum_cov / m\n",
    "\n",
    "        #Update phi, muy_0, muy_1, cov\n",
    "        self.phi = phi_new()\n",
    "        self.cov = cov_new(x, y)\n",
    "        self.muy_0 = muy_0_new(x)\n",
    "        self.muy_1 = muy_1_new(x)\n",
    "\n",
    "        #Initialize parameter theta and theta_0\n",
    "        cov_inv = np.linalg.inv(self.cov)\n",
    "        self.theta = cov_inv @ (self.muy_1  - self.muy_0)\n",
    "        self.theta_0 = 1/2 * (((self.muy_0.T) @ cov_inv @ (self.muy_0)) - ((self.muy_1.T) @ cov_inv @ (self.muy_1))) - np.log((1 - self.phi) / self.phi)\n",
    "\n",
    "    def predict(self, x):\n",
    "        \"\"\"Make a prediction given new inputs x.\n",
    "\n",
    "        Args:\n",
    "            x: Inputs of shape (m, n).\n",
    "\n",
    "        Returns:\n",
    "            Outputs of shape (m,).\n",
    "        \"\"\"\n",
    "        #Predict phase\n",
    "        h = 1 / (1 + np.exp(-(x @ (self.theta) + self.theta_0)))\n",
    "        return h >= 0.5"
   ],
   "id": "bee3573781b1e66e",
   "outputs": [],
   "execution_count": 17
  },
  {
   "metadata": {},
   "cell_type": "markdown",
   "source": "### 5. Training Model",
   "id": "9fecea3e9a714390"
  },
  {
   "metadata": {
    "ExecuteTime": {
     "end_time": "2025-03-16T16:10:35.034900Z",
     "start_time": "2025-03-16T16:10:35.014193Z"
    }
   },
   "cell_type": "code",
   "source": [
    "gda = GDA()\n",
    "gda.fit(x_train, y_train)\n",
    "print(np.insert(gda.theta, 0, gda.theta_0))"
   ],
   "id": "1c463b72caf5fa9f",
   "outputs": [
    {
     "name": "stdout",
     "output_type": "stream",
     "text": [
      "[-0.29285539  0.31388287 -0.00874089]\n"
     ]
    }
   ],
   "execution_count": 18
  },
  {
   "metadata": {},
   "cell_type": "markdown",
   "source": "### 6. Predict Phase",
   "id": "6b33baea20a3d88"
  },
  {
   "metadata": {
    "ExecuteTime": {
     "end_time": "2025-03-16T16:10:35.117174Z",
     "start_time": "2025-03-16T16:10:35.110099Z"
    }
   },
   "cell_type": "code",
   "source": [
    "y_train_pred = gda.predict(x_train)\n",
    "y_valid_pred = gda.predict(x_valid)"
   ],
   "id": "5087f0abc32f4e26",
   "outputs": [],
   "execution_count": 19
  },
  {
   "metadata": {},
   "cell_type": "markdown",
   "source": "### 7. Report Accuracy/MSE",
   "id": "57b5ffabe9ad22a7"
  },
  {
   "metadata": {
    "ExecuteTime": {
     "end_time": "2025-03-16T16:10:35.187991Z",
     "start_time": "2025-03-16T16:10:35.181706Z"
    }
   },
   "cell_type": "code",
   "source": [
    "def accuracy_gda(y_true, y_pred):\n",
    "    sum_correct = 0\n",
    "    for i in range(len(y_true)):\n",
    "        if(y_pred[i] == y_true[i]):\n",
    "            sum_correct += 1\n",
    "    return sum_correct / len(y_true)"
   ],
   "id": "c6bf44a3ffc1f74",
   "outputs": [],
   "execution_count": 20
  },
  {
   "metadata": {
    "ExecuteTime": {
     "end_time": "2025-03-16T16:10:35.250304Z",
     "start_time": "2025-03-16T16:10:35.238201Z"
    }
   },
   "cell_type": "code",
   "source": [
    "accuracy_train_gda = accuracy_gda(y_train, y_train_pred)\n",
    "print(\"TRAIN: Accuracy GDA: \", accuracy_train_gda)"
   ],
   "id": "a83ff1d113f2cf18",
   "outputs": [
    {
     "name": "stdout",
     "output_type": "stream",
     "text": [
      "TRAIN: Accuracy GDA:  0.80625\n"
     ]
    }
   ],
   "execution_count": 21
  },
  {
   "metadata": {
    "ExecuteTime": {
     "end_time": "2025-03-16T16:10:35.330057Z",
     "start_time": "2025-03-16T16:10:35.322700Z"
    }
   },
   "cell_type": "code",
   "source": [
    "accuracy_valid_gda = accuracy_gda(y_valid, y_valid_pred)\n",
    "print(\"VALID: Accuracy GDA: \", accuracy_valid_gda)"
   ],
   "id": "44ecef4a5ea345e5",
   "outputs": [
    {
     "name": "stdout",
     "output_type": "stream",
     "text": [
      "VALID: Accuracy GDA:  0.8\n"
     ]
    }
   ],
   "execution_count": 22
  },
  {
   "metadata": {},
   "cell_type": "markdown",
   "source": "### 8. Plot the Model Prediction",
   "id": "93607e789866adf4"
  },
  {
   "metadata": {
    "ExecuteTime": {
     "end_time": "2025-03-16T16:10:35.473502Z",
     "start_time": "2025-03-16T16:10:35.458566Z"
    }
   },
   "cell_type": "code",
   "source": [
    "#Plot for No add_iterception\n",
    "def gda_plot(x, y, theta_gda):\n",
    "    #1. Initialize graph\n",
    "    plt.figure()\n",
    "    #2. Plot dataset\n",
    "    plt.plot(x[y == 0, 0], x[y == 0, 1], 'bx', linewidth = 2, label=\"Class 0\")\n",
    "    plt.plot(x[y == 1, 0], x[y == 1, 1], 'go', linewidth = 2, label=\"Class 1\")\n",
    "    #3. Estimate range of graph\n",
    "    margin_x_1 = (max(x[:, 0]) - min(x[:, 0])) * 0.2 # 20% range of x1 to create space around the graph\n",
    "    margin_x_2 = (max(x[:, 1]) - min(x[:, 1])) * 0.2 # 20% range of x2 to create space around the graph\n",
    "    x1 = np.linspace(min(x[:, 0])- margin_x_1, max(x[:, 0])+ margin_x_1, 200) #create 200 points between max x1 and min x1 to draw straight line more smooth\n",
    "\n",
    "    #4. Draw boundary line\n",
    "    x2_gda = - (theta_gda[0] / theta_gda[2]) - (theta_gda[1] / theta_gda[2]) * x1\n",
    "    plt.plot(x1, x2_gda, c='red', linewidth=2, label=\"GDA\")\n",
    "\n",
    "    #5. Add information\n",
    "    plt.xlim(x[:, 0].min()-margin_x_1, x[:, -2].max()+margin_x_1)\n",
    "    plt.ylim(x[:, 1].min()-margin_x_2, x[:, -1].max()+margin_x_2)\n",
    "    plt.xlabel('x1')\n",
    "    plt.ylabel('x2')\n",
    "    plt.legend()"
   ],
   "id": "df54df711fa9908",
   "outputs": [],
   "execution_count": 23
  },
  {
   "metadata": {
    "ExecuteTime": {
     "end_time": "2025-03-16T16:10:35.743097Z",
     "start_time": "2025-03-16T16:10:35.508563Z"
    }
   },
   "cell_type": "code",
   "source": [
    "gda_plot(x_train, y_train, np.insert(gda.theta, 0, gda.theta_0))\n",
    "plt.show()"
   ],
   "id": "eac3e3955d814578",
   "outputs": [
    {
     "data": {
      "text/plain": [
       "<Figure size 432x288 with 1 Axes>"
      ],
      "image/png": "[encoded data removed]"
     },
     "metadata": {
      "needs_background": "light"
     },
     "output_type": "display_data"
    }
   ],
   "execution_count": 24
  },
  {
   "metadata": {
    "ExecuteTime": {
     "end_time": "2025-03-16T16:10:36.070124Z",
     "start_time": "2025-03-16T16:10:35.788775Z"
    }
   },
   "cell_type": "code",
   "source": [
    "gda_plot(x_valid, y_valid, np.insert(gda.theta, 0, gda.theta_0))\n",
    "plt.show()"
   ],
   "id": "b5508d64ea851783",
   "outputs": [
    {
     "data": {
      "text/plain": [
       "<Figure size 432x288 with 1 Axes>"
      ],
      "image/png": "[encoded data removed]"
     },
     "metadata": {
      "needs_background": "light"
     },
     "output_type": "display_data"
    }
   ],
   "execution_count": 25
  },
  {
   "metadata": {},
   "cell_type": "markdown",
   "source": "## f. Coding Problem",
   "id": "ed6af869e0489499"
  },
  {
   "metadata": {},
   "cell_type": "markdown",
   "source": "### Compare Logistic Regression to GDA",
   "id": "835c9194a35f4127"
  },
  {
   "metadata": {
    "ExecuteTime": {
     "end_time": "2025-03-16T16:10:36.200253Z",
     "start_time": "2025-03-16T16:10:36.182553Z"
    }
   },
   "cell_type": "code",
   "source": [
    "def plot_comparison(x, y, theta_gda, theta_logistic):\n",
    "    \"\"\"Plot dataset with decision boundaries from GDA and Logistic Regression.\n",
    "    Args:\n",
    "        x: Matrix of training examples, one per row.\n",
    "        y: Vector of labels in {0, 1}.\n",
    "        theta_gda: Vector of parameters for GDA.\n",
    "        theta_logistic: Vector of parameters for Logistic Regression.\n",
    "        save_path: Path to save the plot.\n",
    "        correction: Correction factor to apply (Problem 2(e) only).\n",
    "    \"\"\"\n",
    "    plt.figure()\n",
    "\n",
    "    # Plot dataset\n",
    "    plt.plot(x[y == 1, -2], x[y == 1, -1], 'go', linewidth=2, label=\"Class 1\")\n",
    "    plt.plot(x[y == 0, -2], x[y == 0, -1], 'bx', linewidth=2, label=\"Class 0\")\n",
    "\n",
    "    # Define x1 range for decision boundary\n",
    "    margin1 = (max(x[:, -2]) - min(x[:, -2])) * 0.2\n",
    "    margin2 = (max(x[:, -1]) - min(x[:, -1])) * 0.2\n",
    "    x1 = np.linspace(min(x[:, -2])-margin1, max(x[:, -2])+margin1, 200)\n",
    "\n",
    "    # Decision boundary for GDA\n",
    "    x2_gda = -(theta_gda[0] / theta_gda[2] + theta_gda[1] / theta_gda[2] * x1)\n",
    "    plt.plot(x1, x2_gda, c='red', linewidth=2, label=\"GDA Boundary\")\n",
    "\n",
    "    # Decision boundary for Logistic Regression\n",
    "    x2_logistic = -(theta_logistic[0] / theta_logistic[2] + theta_logistic[1] / theta_logistic[2] * x1)\n",
    "    plt.plot(x1, x2_logistic, c='black', linewidth=2, label=\"Logistic Boundary\")\n",
    "\n",
    "    # Set limits and labels\n",
    "    plt.xlim(x[:, -2].min()-margin1, x[:, -2].max()+margin1)\n",
    "    plt.ylim(x[:, -1].min()-margin2, x[:, -1].max()+margin2)\n",
    "    plt.xlabel('x1')\n",
    "    plt.ylabel('x2')\n",
    "    plt.legend()\n",
    "    plt.show()"
   ],
   "id": "38c88d440e80a466",
   "outputs": [],
   "execution_count": 26
  },
  {
   "metadata": {
    "ExecuteTime": {
     "end_time": "2025-03-16T16:10:36.242452Z",
     "start_time": "2025-03-16T16:10:36.212740Z"
    }
   },
   "cell_type": "code",
   "source": [
    "x_train, y_train = util.load_dataset('/home/anhnt02/Desktop/Basic_AI_Learning/CS229/cs229_learning/problem_sets/PS1/data/ds1_train.csv')\n",
    "x_valid, y_valid = util.load_dataset('/home/anhnt02/Desktop/Basic_AI_Learning/CS229/cs229_learning/problem_sets/PS1/data/ds1_valid.csv')"
   ],
   "id": "b328b62d98caa69d",
   "outputs": [],
   "execution_count": 27
  },
  {
   "metadata": {
    "ExecuteTime": {
     "end_time": "2025-03-16T16:10:36.297790Z",
     "start_time": "2025-03-16T16:10:36.283070Z"
    }
   },
   "cell_type": "code",
   "source": [
    "gda = GDA()\n",
    "gda.fit(x_train, y_train)"
   ],
   "id": "1e25a0b47ed15751",
   "outputs": [],
   "execution_count": 28
  },
  {
   "metadata": {
    "ExecuteTime": {
     "end_time": "2025-03-16T16:10:36.588619Z",
     "start_time": "2025-03-16T16:10:36.347562Z"
    }
   },
   "cell_type": "code",
   "source": "plot_comparison(x_valid, y_valid, theta_gda=np.insert(gda.theta, 0, gda.theta_0), theta_logistic=clf.theta)",
   "id": "51dae9e9e5a70d47",
   "outputs": [
    {
     "data": {
      "text/plain": [
       "<Figure size 432x288 with 1 Axes>"
      ],
      "image/png": "[encoded data removed]"
     },
     "metadata": {
      "needs_background": "light"
     },
     "output_type": "display_data"
    }
   ],
   "execution_count": 29
  },
  {
   "metadata": {},
   "cell_type": "markdown",
   "source": "## g. Coding Problem",
   "id": "ef8e5ddd2b7de47c"
  },
  {
   "metadata": {},
   "cell_type": "markdown",
   "source": "### 1. Load dataset 2",
   "id": "bd30a7c11ca43bfb"
  },
  {
   "metadata": {},
   "cell_type": "markdown",
   "source": "#### GDA",
   "id": "ca2464a3d2ec180e"
  },
  {
   "metadata": {
    "ExecuteTime": {
     "end_time": "2025-03-16T16:10:36.666818Z",
     "start_time": "2025-03-16T16:10:36.631111Z"
    }
   },
   "cell_type": "code",
   "source": [
    "x_train_2_gda, y_train_2_gda = util.load_dataset('/home/anhnt02/Desktop/Basic_AI_Learning/CS229/cs229_learning/problem_sets/PS1/data/ds2_train.csv')\n",
    "x_valid_2_gda, y_valid_2_gda = util.load_dataset('/home/anhnt02/Desktop/Basic_AI_Learning/CS229/cs229_learning/problem_sets/PS1/data/ds2_valid.csv')"
   ],
   "id": "2074f011ced1d0a1",
   "outputs": [],
   "execution_count": 30
  },
  {
   "metadata": {},
   "cell_type": "markdown",
   "source": "#### Logistic Regression",
   "id": "901c4d152a14bc1c"
  },
  {
   "metadata": {
    "ExecuteTime": {
     "end_time": "2025-03-16T16:10:36.754047Z",
     "start_time": "2025-03-16T16:10:36.730102Z"
    }
   },
   "cell_type": "code",
   "source": [
    "x_train_2, y_train_2 = util.load_dataset('/home/anhnt02/Desktop/Basic_AI_Learning/CS229/cs229_learning/problem_sets/PS1/data/ds2_train.csv', add_intercept=True)\n",
    "x_valid_2, y_valid_2 = util.load_dataset('/home/anhnt02/Desktop/Basic_AI_Learning/CS229/cs229_learning/problem_sets/PS1/data/ds2_valid.csv', add_intercept=True)"
   ],
   "id": "39581fe692b563db",
   "outputs": [],
   "execution_count": 31
  },
  {
   "metadata": {},
   "cell_type": "markdown",
   "source": "### 2. Train with GDA and Logistic Regression",
   "id": "c265b6cdf4d362a7"
  },
  {
   "metadata": {},
   "cell_type": "markdown",
   "source": "#### GDA",
   "id": "eec4ca90979a7f3d"
  },
  {
   "metadata": {
    "ExecuteTime": {
     "end_time": "2025-03-16T16:10:36.849015Z",
     "start_time": "2025-03-16T16:10:36.834500Z"
    }
   },
   "cell_type": "code",
   "source": [
    "gda_2 = GDA()\n",
    "gda_2.fit(x_train_2_gda, y_train_2_gda)"
   ],
   "id": "a94054dd032a4c3e",
   "outputs": [],
   "execution_count": 32
  },
  {
   "metadata": {},
   "cell_type": "markdown",
   "source": "#### Logistic Regression",
   "id": "2cfbfe1b1908abd"
  },
  {
   "metadata": {
    "ExecuteTime": {
     "end_time": "2025-03-16T16:10:37.027082Z",
     "start_time": "2025-03-16T16:10:37.017692Z"
    }
   },
   "cell_type": "code",
   "source": [
    "clf_2 = LogisticRegression()\n",
    "clf_2.fit(x_train_2, y_train_2)"
   ],
   "id": "4e0c3494bd125901",
   "outputs": [],
   "execution_count": 33
  },
  {
   "metadata": {},
   "cell_type": "markdown",
   "source": "### 3. Predict with GDA and Logistic Regression",
   "id": "6444908f5dd5c563"
  },
  {
   "metadata": {},
   "cell_type": "markdown",
   "source": "#### GDA",
   "id": "fad525008903d11"
  },
  {
   "metadata": {
    "ExecuteTime": {
     "end_time": "2025-03-16T16:10:37.223139Z",
     "start_time": "2025-03-16T16:10:37.216596Z"
    }
   },
   "cell_type": "code",
   "source": [
    "y_train_pred_2_gda = gda_2.predict(x_train_2_gda)\n",
    "y_valid_pred_2_gda = gda_2.predict(x_valid_2_gda)"
   ],
   "id": "befae9e44a182bae",
   "outputs": [],
   "execution_count": 34
  },
  {
   "metadata": {},
   "cell_type": "markdown",
   "source": "#### Logistic Regression",
   "id": "fe7d2dc78f4805e7"
  },
  {
   "metadata": {
    "ExecuteTime": {
     "end_time": "2025-03-16T16:10:37.269362Z",
     "start_time": "2025-03-16T16:10:37.263390Z"
    }
   },
   "cell_type": "code",
   "source": [
    "y_train_pred_2_clf = clf_2.predict(x_train_2)\n",
    "y_valid_pred_2_clf = clf_2.predict(x_valid_2)"
   ],
   "id": "6bb7c6ec7935817b",
   "outputs": [],
   "execution_count": 35
  },
  {
   "metadata": {},
   "cell_type": "markdown",
   "source": "### 4. Report Accuracy",
   "id": "2e2c522b17fc7d47"
  },
  {
   "metadata": {},
   "cell_type": "markdown",
   "source": "#### GDA",
   "id": "22f04f27c797cf51"
  },
  {
   "metadata": {
    "ExecuteTime": {
     "end_time": "2025-03-16T16:10:37.367774Z",
     "start_time": "2025-03-16T16:10:37.358238Z"
    }
   },
   "cell_type": "code",
   "source": [
    "accuracy_train_gda_2 = accuracy_gda(y_train_2_gda, y_train_pred_2_gda)\n",
    "print(\"TRAIN: Accuracy GDA: \", accuracy_train_gda_2)"
   ],
   "id": "879efcd5b25bf8c1",
   "outputs": [
    {
     "name": "stdout",
     "output_type": "stream",
     "text": [
      "TRAIN: Accuracy GDA:  0.90375\n"
     ]
    }
   ],
   "execution_count": 36
  },
  {
   "metadata": {
    "ExecuteTime": {
     "end_time": "2025-03-16T16:10:37.473208Z",
     "start_time": "2025-03-16T16:10:37.465136Z"
    }
   },
   "cell_type": "code",
   "source": [
    "accuracy_valid_gda_2 = accuracy_gda(y_valid_2_gda, y_valid_pred_2_gda)\n",
    "print(\"VALID: Accuracy GDA: \", accuracy_valid_gda_2)"
   ],
   "id": "3e78324215a12ca5",
   "outputs": [
    {
     "name": "stdout",
     "output_type": "stream",
     "text": [
      "VALID: Accuracy GDA:  0.93\n"
     ]
    }
   ],
   "execution_count": 37
  },
  {
   "metadata": {},
   "cell_type": "markdown",
   "source": "#### Logistic Regression",
   "id": "d77f7fd7076b3156"
  },
  {
   "metadata": {
    "ExecuteTime": {
     "end_time": "2025-03-16T16:10:37.594906Z",
     "start_time": "2025-03-16T16:10:37.581146Z"
    }
   },
   "cell_type": "code",
   "source": [
    "accuracy_train_log_2 = accuracy_log(y_train_2, y_train_pred_2_clf)\n",
    "print(\"TRAIN: Accuracy Log: \", accuracy_train_log_2)"
   ],
   "id": "6a66adce2d7026f8",
   "outputs": [
    {
     "name": "stdout",
     "output_type": "stream",
     "text": [
      "TRAIN: Accuracy Log:  0.915\n"
     ]
    }
   ],
   "execution_count": 38
  },
  {
   "metadata": {
    "ExecuteTime": {
     "end_time": "2025-03-16T16:10:37.726058Z",
     "start_time": "2025-03-16T16:10:37.718139Z"
    }
   },
   "cell_type": "code",
   "source": [
    "accuracy_valid_log_2 = accuracy_log(y_valid_2, y_valid_pred_2_clf)\n",
    "print(\"VALID: Accuracy Log: \", accuracy_valid_log_2)"
   ],
   "id": "a4aad8f5a57176ff",
   "outputs": [
    {
     "name": "stdout",
     "output_type": "stream",
     "text": [
      "VALID: Accuracy Log:  0.91\n"
     ]
    }
   ],
   "execution_count": 39
  },
  {
   "metadata": {},
   "cell_type": "markdown",
   "source": "### 5. Plot model prediction",
   "id": "23f3a87b9295d35a"
  },
  {
   "metadata": {
    "ExecuteTime": {
     "end_time": "2025-03-16T16:10:38.049979Z",
     "start_time": "2025-03-16T16:10:37.814198Z"
    }
   },
   "cell_type": "code",
   "source": "plot_comparison(x_train_2_gda, y_train_2_gda, theta_gda=np.insert(gda_2.theta, 0, gda_2.theta_0), theta_logistic=clf_2.theta)",
   "id": "abaf9bd47c7ddb89",
   "outputs": [
    {
     "data": {
      "text/plain": [
       "<Figure size 432x288 with 1 Axes>"
      ],
      "image/png": "[encoded data removed]"
     },
     "metadata": {
      "needs_background": "light"
     },
     "output_type": "display_data"
    }
   ],
   "execution_count": 40
  },
  {
   "metadata": {
    "ExecuteTime": {
     "end_time": "2025-03-16T16:10:38.410077Z",
     "start_time": "2025-03-16T16:10:38.143060Z"
    }
   },
   "cell_type": "code",
   "source": "plot_comparison(x_valid_2_gda, y_valid_2_gda, theta_gda=np.insert(gda_2.theta, 0, gda_2.theta_0), theta_logistic=clf_2.theta)",
   "id": "aee3e9eee02daed7",
   "outputs": [
    {
     "data": {
      "text/plain": [
       "<Figure size 432x288 with 1 Axes>"
      ],
      "image/png": "[encoded data removed]"
     },
     "metadata": {
      "needs_background": "light"
     },
     "output_type": "display_data"
    }
   ],
   "execution_count": 41
  },
  {
   "metadata": {},
   "cell_type": "markdown",
   "source": [
    "In Dataset 1, We can see that the Accuracy and the Boundary line in both training set and validation set of Logistic Regression is much BETTER than GDA.\n",
    "This happened because p(x|y) may not be Gaussian in some datapoints"
   ],
   "id": "2715ac5b0600702e"
  },
  {
   "metadata": {},
   "cell_type": "markdown",
   "source": "## h. Theory problem",
   "id": "84d131b1335e30d7"
  },
  {
   "metadata": {},
   "cell_type": "markdown",
   "source": "Using log or exponential function to reduce the affect of \"NOT Gaussian\" data",
   "id": "f23942f098b16da"
  },
  {
   "metadata": {
    "ExecuteTime": {
     "end_time": "2025-03-16T16:10:38.546032Z",
     "start_time": "2025-03-16T16:10:38.542587Z"
    }
   },
   "cell_type": "code",
   "source": "",
   "id": "e82152f8e5bd359b",
   "outputs": [],
   "execution_count": null
  },
  {
   "metadata": {
    "ExecuteTime": {
     "end_time": "2025-03-16T16:10:38.643691Z",
     "start_time": "2025-03-16T16:10:38.640362Z"
    }
   },
   "cell_type": "code",
   "source": "",
   "id": "875bbf23c1118f7f",
   "outputs": [],
   "execution_count": null
  },
  {
   "metadata": {
    "ExecuteTime": {
     "end_time": "2025-03-16T16:10:38.745787Z",
     "start_time": "2025-03-16T16:10:38.743309Z"
    }
   },
   "cell_type": "code",
   "source": "",
   "id": "92768bee387c3a78",
   "outputs": [],
   "execution_count": null
  },
  {
   "metadata": {
    "ExecuteTime": {
     "end_time": "2025-03-16T16:10:38.936410Z",
     "start_time": "2025-03-16T16:10:38.932524Z"
    }
   },
   "cell_type": "code",
   "source": "",
   "id": "480f4286cfbbaaa2",
   "outputs": [],
   "execution_count": null
  }
 ],
 "metadata": {
  "kernelspec": {
   "display_name": "Python 3",
   "language": "python",
   "name": "python3"
  },
  "language_info": {
   "codemirror_mode": {
    "name": "ipython",
    "version": 2
   },
   "file_extension": ".py",
   "mimetype": "text/x-python",
   "name": "python",
   "nbconvert_exporter": "python",
   "pygments_lexer": "ipython2",
   "version": "2.7.6"
  }
 },
 "nbformat": 4,
 "nbformat_minor": 5
}
