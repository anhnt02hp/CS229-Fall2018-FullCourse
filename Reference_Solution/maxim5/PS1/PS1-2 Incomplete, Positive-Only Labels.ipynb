{
 "cells": [
  {
   "cell_type": "markdown",
   "metadata": {
    "collapsed": true,
    "pycharm": {
     "name": "#%% md\n"
    }
   },
   "source": [
    "## PS1-2 Incomplete, Positive-Only Labels"
   ]
  },
  {
   "cell_type": "markdown",
   "metadata": {
    "collapsed": false,
    "pycharm": {
     "name": "#%% md\n"
    }
   },
   "source": [
    "#### (a)"
   ]
  },
  {
   "cell_type": "markdown",
   "metadata": {
    "collapsed": false,
    "pycharm": {
     "name": "#%% md\n"
    }
   },
   "source": [
    "Suppose that each $y^{(i)}$ and $x^{(i)}$ are conditionally independent given $t^{(i)}$, that is\n",
    "\n",
    "$$p(y^{(i)} = 1 \\ \\vert \\ t^{(i)} = 1, x^{(i)}) = p(y^{(i)} = 1 \\ \\vert \\ t^{(i)} = 1)$$\n",
    "\n",
    "Then\n",
    "\n",
    "\\begin{align*}\n",
    "p(y^{(i)} \\ \\vert \\ x^{(i)}) & = \\sum_{t^{(i)}} p(y^{(i)} = 1, t^{(i)} \\ \\vert \\ x^{(i)}) \\\\\n",
    "                             & = p(y^{(i)} = 1, t^{(i)} = 1 \\ \\vert \\ x^{(i)}) + p(y^{(i)} = 1, t^{(i)} = 0 \\ \\vert \\ x^{(i)}) \\\\\n",
    "                             & = p(y^{(i)} = 1, t^{(i)} = 1 \\ \\vert \\ x^{(i)}) + 0 \\\\\n",
    "                             & = p(y^{(i)} = 1 \\ \\vert \\ t^{(i)} = 1, x^{(i)}) \\ p(t^{(i)} = 1 \\ \\vert \\ x^{(i)}) \\\\\n",
    "                             & = p(y^{(i)} = 1 \\ \\vert \\ t^{(i)} = 1) \\ p(t^{(i)} = 1 \\ \\vert \\ x^{(i)}) \\\\\n",
    "                             & = \\alpha \\ p(t^{(i)} = 1 \\ \\vert \\ x^{(i)})\n",
    "\\end{align*}\n",
    "\n",
    "Therefore, $p(t^{(i)} = 1 \\ \\vert \\ x^{(i)}) = p(y^{(i)} \\ \\vert \\ x^{(i)}) / \\alpha$, where $\\alpha = p(y^{(i)} = 1 \\ \\vert \\ t^{(i)} = 1)$."
   ]
  },
  {
   "cell_type": "markdown",
   "metadata": {
    "collapsed": false,
    "pycharm": {
     "name": "#%% md\n"
    }
   },
   "source": [
    "#### (b)"
   ]
  },
  {
   "cell_type": "markdown",
   "metadata": {
    "collapsed": false,
    "pycharm": {
     "name": "#%% md\n"
    }
   },
   "source": [
    "\\begin{align*}\n",
    "h(x^{(i)}) & \\approx p(y^{(i)} = 1 \\ \\vert \\ x^{(i)}) \\\\\n",
    "           & = \\alpha \\ p(t^{(i)} = 1 \\ \\vert \\ x^{(i)}) \\\\\n",
    "           & \\approx \\alpha \\cdot 1 \\\\\n",
    "           & = \\alpha\n",
    "\\end{align*}"
   ]
  },
  {
   "cell_type": "markdown",
   "metadata": {
    "collapsed": false,
    "pycharm": {
     "name": "#%% md\n"
    }
   },
   "source": [
    "#### (c)"
   ]
  },
  {
   "cell_type": "code",
   "metadata": {
    "collapsed": false,
    "pycharm": {
     "name": "#%% code\n"
    },
    "ExecuteTime": {
     "end_time": "2025-03-26T08:26:48.800067Z",
     "start_time": "2025-03-26T08:26:48.794239Z"
    }
   },
   "source": [
    "import numpy as np\n",
    "import matplotlib.pyplot as plt\n",
    "\n",
    "import Full_Problem_Set.PS1.src.util as util\n",
    "from Full_Problem_Set.PS1.src.linear_model import LinearModel"
   ],
   "outputs": [],
   "execution_count": 3
  },
  {
   "cell_type": "code",
   "metadata": {
    "collapsed": false,
    "pycharm": {
     "name": "#%% code\n"
    },
    "ExecuteTime": {
     "end_time": "2025-03-26T08:26:48.903685Z",
     "start_time": "2025-03-26T08:26:48.822771Z"
    }
   },
   "source": [
    "x_train, y_train = util.load_dataset('/home/anhnt02/Desktop/CS229-Fall2018-FullCourse/Full_Problem_Set/PS1/data/ds3_train.csv', add_intercept=True)\n",
    "_, t_train = util.load_dataset('/home/anhnt02/Desktop/CS229-Fall2018-FullCourse/Full_Problem_Set/PS1/data/ds3_train.csv', label_col='t')\n",
    "x_valid, y_valid = util.load_dataset('/home/anhnt02/Desktop/CS229-Fall2018-FullCourse/Full_Problem_Set/PS1/data/ds3_valid.csv', add_intercept=True)\n",
    "_, t_valid = util.load_dataset('/home/anhnt02/Desktop/CS229-Fall2018-FullCourse/Full_Problem_Set/PS1/data/ds3_valid.csv', label_col='t')\n",
    "x_test, y_test = util.load_dataset('/home/anhnt02/Desktop/CS229-Fall2018-FullCourse/Full_Problem_Set/PS1/data/ds3_test.csv', add_intercept=True)\n",
    "_, t_test = util.load_dataset('/home/anhnt02/Desktop/CS229-Fall2018-FullCourse/Full_Problem_Set/PS1/data/ds3_test.csv', label_col='t')"
   ],
   "outputs": [],
   "execution_count": 4
  },
  {
   "cell_type": "markdown",
   "metadata": {
    "collapsed": false,
    "pycharm": {
     "name": "#%% md\n"
    }
   },
   "source": [
    "Reuse the logistic regression model in PS1-1:"
   ]
  },
  {
   "cell_type": "code",
   "metadata": {
    "collapsed": false,
    "pycharm": {
     "name": "#%% code\n"
    },
    "ExecuteTime": {
     "end_time": "2025-03-26T08:26:48.989681Z",
     "start_time": "2025-03-26T08:26:48.968836Z"
    }
   },
   "source": [
    "class LogisticRegression(LinearModel):\n",
    "    \"\"\"Logistic regression with Newton's Method as the solver.\n",
    "\n",
    "    Example usage:\n",
    "        > clf = LogisticRegression()\n",
    "        > clf.fit(x_train, y_train)\n",
    "        > clf.predict(x_eval)\n",
    "    \"\"\"\n",
    "\n",
    "    def fit(self, x, y):\n",
    "        \"\"\"Run Newton's Method to minimize J(theta) for logistic regression.\n",
    "\n",
    "        :param x: Training example inputs. Shape (m, n).\n",
    "        :param y: Training example labels. Shape (m,).\n",
    "        \"\"\"\n",
    "\n",
    "        def h(theta, x):\n",
    "            \"\"\"Vectorized implementation of h_theta(x) = 1 / (1 + exp(-theta^T x)).\n",
    "\n",
    "            :param theta: Shape (n,).\n",
    "            :param x:     All training examples of shape (m, n).\n",
    "            :return:      The hypothesis for all training examples. Shape (m,).\n",
    "            \"\"\"\n",
    "            return 1 / (1 + np.exp(-np.dot(x, theta)))\n",
    "\n",
    "        def gradient(theta, x, y):\n",
    "            \"\"\"Vectorized implementation of the gradient of J(theta).\n",
    "\n",
    "            :param theta: Shape (n,).\n",
    "            :param x:     All training examples of shape (m, n).\n",
    "            :param y:     All labels of shape (m,).\n",
    "            :return:      The gradient of shape (n,).\n",
    "            \"\"\"\n",
    "            m, _ = x.shape\n",
    "            return -1 / m * np.dot(x.T, (y - h(theta, x)))\n",
    "\n",
    "        def hessian(theta, x):\n",
    "            \"\"\"Vectorized implementation of the Hessian of J(theta).\n",
    "\n",
    "            :param theta: Shape (n,).\n",
    "            :param x:     All training examples of shape (m, n).\n",
    "            :return:      The Hessian of shape (n, n).\n",
    "            \"\"\"\n",
    "            m, _ = x.shape\n",
    "            h_theta_x = np.reshape(h(theta, x), (-1, 1))\n",
    "            return 1 / m * np.dot(x.T, h_theta_x * (1 - h_theta_x) * x)\n",
    "\n",
    "        def next_theta(theta, x, y):\n",
    "            \"\"\"The next theta updated by Newton's Method.\n",
    "\n",
    "            :param theta: Shape (n,).\n",
    "            :return:      The updated theta of shape (n,).\n",
    "            \"\"\"\n",
    "            return theta - np.dot(np.linalg.inv(hessian(theta, x)), gradient(theta, x, y))\n",
    "\n",
    "        m, n = x.shape\n",
    "\n",
    "        # Initialize theta\n",
    "        if self.theta is None:\n",
    "            self.theta = np.zeros(n)\n",
    "\n",
    "        # Update theta using Newton's Method\n",
    "        old_theta = self.theta\n",
    "        new_theta = next_theta(self.theta, x, y)\n",
    "        while np.linalg.norm(new_theta - old_theta, 1) >= self.eps:\n",
    "            old_theta = new_theta\n",
    "            new_theta = next_theta(old_theta, x, y)\n",
    "\n",
    "        self.theta = new_theta\n",
    "\n",
    "    def predict(self, x):\n",
    "        \"\"\"Make a prediction given new inputs x.\n",
    "\n",
    "        :param x: Inputs of shape (m, n).\n",
    "        :return:  Outputs of shape (m,).\n",
    "        \"\"\"\n",
    "\n",
    "        return x @ self.theta >= 0"
   ],
   "outputs": [],
   "execution_count": 5
  },
  {
   "cell_type": "markdown",
   "metadata": {
    "collapsed": false,
    "pycharm": {
     "name": "#%% md\n"
    }
   },
   "source": [
    "Use true t-labels for training:"
   ]
  },
  {
   "cell_type": "code",
   "metadata": {
    "collapsed": false,
    "pycharm": {
     "name": "#%% code\n"
    },
    "ExecuteTime": {
     "end_time": "2025-03-26T08:26:49.079874Z",
     "start_time": "2025-03-26T08:26:49.059296Z"
    }
   },
   "source": [
    "log_reg = LogisticRegression()\n",
    "log_reg.fit(x_train, t_train)"
   ],
   "outputs": [],
   "execution_count": 6
  },
  {
   "cell_type": "markdown",
   "metadata": {
    "collapsed": false,
    "pycharm": {
     "name": "#%% md\n"
    }
   },
   "source": [
    "Plot decision boundary for training set:"
   ]
  },
  {
   "cell_type": "code",
   "metadata": {
    "collapsed": false,
    "pycharm": {
     "name": "#%% code\n"
    },
    "ExecuteTime": {
     "end_time": "2025-03-26T08:26:49.506011Z",
     "start_time": "2025-03-26T08:26:49.180420Z"
    }
   },
   "source": [
    "util.plot(x_train, t_train, log_reg.theta)\n",
    "print(\"Theta is: \", log_reg.theta)\n",
    "print(\"The accuracy on training set is: \", np.mean(t_train == log_reg.predict(x_train)))"
   ],
   "outputs": [
    {
     "name": "stdout",
     "output_type": "stream",
     "text": [
      "Theta is:  [-0.9711418   2.73208784  1.07403478]\n",
      "The accuracy on training set is:  0.9632\n"
     ]
    },
    {
     "data": {
      "text/plain": [
       "<Figure size 432x288 with 1 Axes>"
      ],
      "image/png": "[encoded data removed]"
     },
     "metadata": {
      "needs_background": "light"
     },
     "output_type": "display_data"
    }
   ],
   "execution_count": 7
  },
  {
   "cell_type": "markdown",
   "metadata": {
    "collapsed": false,
    "pycharm": {
     "name": "#%% md\n"
    }
   },
   "source": [
    "Plot decision boundary for test set:"
   ]
  },
  {
   "cell_type": "code",
   "metadata": {
    "collapsed": false,
    "pycharm": {
     "name": "#%% code\n"
    },
    "ExecuteTime": {
     "end_time": "2025-03-26T08:26:49.789131Z",
     "start_time": "2025-03-26T08:26:49.587104Z"
    }
   },
   "source": [
    "util.plot(x_test, t_test, log_reg.theta)\n",
    "print(\"Theta is: \", log_reg.theta)\n",
    "print(\"The accuracy on test set is: \", np.mean(t_test == log_reg.predict(x_test)))"
   ],
   "outputs": [
    {
     "name": "stdout",
     "output_type": "stream",
     "text": [
      "Theta is:  [-0.9711418   2.73208784  1.07403478]\n",
      "The accuracy on test set is:  0.9838709677419355\n"
     ]
    },
    {
     "data": {
      "text/plain": [
       "<Figure size 432x288 with 1 Axes>"
      ],
      "image/png": "[encoded data removed]"
     },
     "metadata": {
      "needs_background": "light"
     },
     "output_type": "display_data"
    }
   ],
   "execution_count": 8
  },
  {
   "cell_type": "markdown",
   "metadata": {
    "collapsed": false,
    "pycharm": {
     "name": "#%% md\n"
    }
   },
   "source": [
    "#### (d)"
   ]
  },
  {
   "cell_type": "markdown",
   "metadata": {
    "collapsed": false
   },
   "source": [
    "Assume the t-labels are unavailable, we then switch to y-labels for training:"
   ]
  },
  {
   "cell_type": "code",
   "metadata": {
    "collapsed": false,
    "pycharm": {
     "name": "#%% code\n"
    },
    "ExecuteTime": {
     "end_time": "2025-03-26T08:26:49.860661Z",
     "start_time": "2025-03-26T08:26:49.850832Z"
    }
   },
   "source": [
    "log_reg = LogisticRegression()\n",
    "log_reg.fit(x_train, y_train)\n",
    "print(log_reg.theta)"
   ],
   "outputs": [
    {
     "name": "stdout",
     "output_type": "stream",
     "text": [
      "[-2.91607454  0.78596651  0.09282768]\n"
     ]
    }
   ],
   "execution_count": 9
  },
  {
   "cell_type": "markdown",
   "metadata": {
    "collapsed": false,
    "pycharm": {
     "name": "#%% md\n"
    }
   },
   "source": [
    "Plot the new decision boundary for test set. We expect it to perform poorly."
   ]
  },
  {
   "cell_type": "code",
   "metadata": {
    "collapsed": false,
    "pycharm": {
     "name": "#%% code\n"
    },
    "ExecuteTime": {
     "end_time": "2025-03-26T08:26:50.322476Z",
     "start_time": "2025-03-26T08:26:50.022177Z"
    }
   },
   "source": [
    "util.plot(x_test, y_test, log_reg.theta)"
   ],
   "outputs": [
    {
     "data": {
      "text/plain": [
       "<Figure size 432x288 with 1 Axes>"
      ],
      "image/png": "[encoded data removed]"
     },
     "metadata": {
      "needs_background": "light"
     },
     "output_type": "display_data"
    }
   ],
   "execution_count": 10
  },
  {
   "cell_type": "markdown",
   "metadata": {
    "collapsed": false,
    "pycharm": {
     "name": "#%% md\n"
    }
   },
   "source": [
    "#### (e)"
   ]
  },
  {
   "cell_type": "markdown",
   "metadata": {
    "collapsed": false,
    "pycharm": {
     "name": "#%% md\n"
    }
   },
   "source": [
    "According to part (b), we know that:\n",
    "\n",
    "$$\n",
    "p(t^{(i)} = 1 \\ \\vert \\ x^{(i)}) = \\frac{1}{\\alpha} \\ p(y^{(i)} = 1 \\ \\vert \\ x^{(i)})\n",
    "$$,\n",
    "\n",
    "meaning if we can find $\\alpha$, we can estimate $p(t^{(i)} = 1 \\ \\vert \\ x^{(i)})$ with y-labeled data.\n",
    "\n",
    "It's easy to prove that $h(x^{(i)}) = \\alpha$ when $y^{(i)} = 1$, and $h(x^{(i)}) = 0$ when $y^{(i)} = 0$.\n",
    "Hence:\n",
    "\n",
    "$$\n",
    "\\alpha = \\mathbb E [h(x^{(i)}) \\ \\vert \\ y^{(i)} = 1] \\approx \\frac{1}{\\vert V_+ \\vert} \\sum_{x^{(i)} \\in V_+} h(x^{(i)})\n",
    "$$"
   ]
  },
  {
   "cell_type": "markdown",
   "metadata": {
    "collapsed": false,
    "pycharm": {
     "name": "#%% md\n"
    }
   },
   "source": [
    "Reuse function `h` in the logistic regression model:"
   ]
  },
  {
   "cell_type": "code",
   "metadata": {
    "collapsed": false,
    "pycharm": {
     "name": "#%% code\n"
    },
    "ExecuteTime": {
     "end_time": "2025-03-26T08:26:50.348354Z",
     "start_time": "2025-03-26T08:26:50.342646Z"
    }
   },
   "source": [
    "def h(theta, x):\n",
    "    return 1 / (1 + np.exp(-np.dot(x, theta)))"
   ],
   "outputs": [],
   "execution_count": 11
  },
  {
   "cell_type": "markdown",
   "metadata": {
    "collapsed": false,
    "pycharm": {
     "name": "#%% md\n"
    }
   },
   "source": [
    "Estimate $\\alpha$:"
   ]
  },
  {
   "cell_type": "code",
   "metadata": {
    "collapsed": false,
    "pycharm": {
     "name": "#%% code\n"
    },
    "ExecuteTime": {
     "end_time": "2025-03-26T08:26:50.422706Z",
     "start_time": "2025-03-26T08:26:50.417772Z"
    }
   },
   "source": [
    "v_plus = x_valid[y_valid == 1]\n",
    "alpha = h(log_reg.theta, v_plus).mean()"
   ],
   "outputs": [],
   "execution_count": 12
  },
  {
   "cell_type": "markdown",
   "metadata": {
    "collapsed": false,
    "pycharm": {
     "name": "#%% md\n"
    }
   },
   "source": [
    "Rescale the classifier's predictions using $\\alpha$:"
   ]
  },
  {
   "cell_type": "code",
   "metadata": {
    "collapsed": false,
    "pycharm": {
     "name": "#%% code\n"
    },
    "ExecuteTime": {
     "end_time": "2025-03-26T08:26:50.487859Z",
     "start_time": "2025-03-26T08:26:50.482530Z"
    }
   },
   "source": [
    "def predict(theta, x):\n",
    "    return h(theta, x) / alpha >= 0.5"
   ],
   "outputs": [],
   "execution_count": 13
  },
  {
   "cell_type": "markdown",
   "metadata": {
    "collapsed": false,
    "pycharm": {
     "name": "#%% md\n"
    }
   },
   "source": [
    "To plot the decision boundary found by solving $\\frac{1}{\\alpha} \\frac{1}{1 + \\exp(- \\theta^T x)} = \\frac{1}{2}$,\n",
    "we can equivalently transform the equation to the form of $\\theta'^T x = 0$ and solve for $\\theta'$. By simplifying\n",
    "the equation, we obtain $\\theta^T x + \\log (\\frac{2}{\\alpha} - 1) = 0$. The left-hand side is in fact adding $\\log (\\frac{2}{\\alpha} - 1)$\n",
    "to $\\theta_0$. Hence, $\\theta' = \\theta + \\log (\\frac{2}{\\alpha} - 1)[1, 0, 0]^T$."
   ]
  },
  {
   "cell_type": "code",
   "metadata": {
    "collapsed": false,
    "pycharm": {
     "name": "#%% code\n"
    },
    "ExecuteTime": {
     "end_time": "2025-03-26T08:26:50.548Z",
     "start_time": "2025-03-26T08:26:50.541532Z"
    }
   },
   "source": [
    "theta_prime = log_reg.theta + np.log(2 / alpha - 1) * np.array([1, 0, 0])"
   ],
   "outputs": [],
   "execution_count": 14
  },
  {
   "cell_type": "markdown",
   "metadata": {
    "collapsed": false,
    "pycharm": {
     "name": "#%% md\n"
    }
   },
   "source": [
    "Plot decision boundary for test set:"
   ]
  },
  {
   "cell_type": "code",
   "metadata": {
    "collapsed": false,
    "pycharm": {
     "name": "#%% code\n"
    },
    "ExecuteTime": {
     "end_time": "2025-03-26T08:26:50.868029Z",
     "start_time": "2025-03-26T08:26:50.608527Z"
    }
   },
   "source": [
    "util.plot(x_test, y_test, theta_prime)\n",
    "print(\"Theta_prime is: \", theta_prime)\n",
    "print(\"The accuracy on test set is: \", np.mean(predict(log_reg.theta, x_test) == t_test))"
   ],
   "outputs": [
    {
     "name": "stdout",
     "output_type": "stream",
     "text": [
      "Theta_prime is:  [-0.55096984  0.78596651  0.09282768]\n",
      "The accuracy on test set is:  0.9516129032258065\n"
     ]
    },
    {
     "data": {
      "text/plain": [
       "<Figure size 432x288 with 1 Axes>"
      ],
      "image/png": "[encoded data removed]"
     },
     "metadata": {
      "needs_background": "light"
     },
     "output_type": "display_data"
    }
   ],
   "execution_count": 15
  }
 ],
 "metadata": {
  "kernelspec": {
   "display_name": "Python 3",
   "language": "python",
   "name": "python3"
  },
  "language_info": {
   "codemirror_mode": {
    "name": "ipython",
    "version": 2
   },
   "file_extension": ".py",
   "mimetype": "text/x-python",
   "name": "python",
   "nbconvert_exporter": "python",
   "pygments_lexer": "ipython2",
   "version": "2.7.6"
  }
 },
 "nbformat": 4,
 "nbformat_minor": 0
}
