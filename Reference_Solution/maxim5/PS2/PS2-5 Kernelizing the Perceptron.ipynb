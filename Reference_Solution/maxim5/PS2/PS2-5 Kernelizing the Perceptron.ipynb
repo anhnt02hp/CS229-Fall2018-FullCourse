{
 "cells": [
  {
   "cell_type": "markdown",
   "metadata": {
    "collapsed": true,
    "pycharm": {
     "name": "#%% md\n"
    }
   },
   "source": [
    "## PS2-5 Kernelizing the Perceptron"
   ]
  },
  {
   "cell_type": "markdown",
   "source": [
    "#### (a)"
   ],
   "metadata": {
    "collapsed": false,
    "pycharm": {
     "name": "#%% md\n"
    }
   }
  },
  {
   "cell_type": "markdown",
   "source": [
    "##### i."
   ],
   "metadata": {
    "collapsed": false,
    "pycharm": {
     "name": "#%% md\n"
    }
   }
  },
  {
   "cell_type": "markdown",
   "source": [
    "Recall the update rule\n",
    "\n",
    "$$\\theta^{(i + 1)} := \\theta^{(i)} + \\alpha \\big( y^{(i + 1)} - h_{\\theta^{(i)}} (\\phi (x^{(i + 1)})) \\big) \\phi (x^{(i + 1)})$$\n",
    "\n",
    "We can easily figure out that $\\theta^{(i)}$ is a linear combination of $\\phi (x^{(1)}), \\dots , \\phi (x^{(i)})$, that is\n",
    "\n",
    "\\begin{align*}\n",
    "\\theta^{(i)} & = \\sum_{j = 1}^{i} \\beta_j \\phi (x^{(j)}) \\\\\n",
    "\\theta^{(0)} & = \\vec{0}\n",
    "\\end{align*}"
   ],
   "metadata": {
    "collapsed": false,
    "pycharm": {
     "name": "#%% md\n"
    }
   }
  },
  {
   "cell_type": "markdown",
   "source": [
    "##### ii."
   ],
   "metadata": {
    "collapsed": false,
    "pycharm": {
     "name": "#%% md\n"
    }
   }
  },
  {
   "cell_type": "markdown",
   "source": [
    "\\begin{align*}\n",
    "h_{\\theta^{(i)}} (\\phi (x^{(i + 1)})) & = \\mathrm{sign} ((\\theta^{(i)})^T \\phi (x^{(i + 1)})) \\\\\n",
    "                                      & = \\mathrm{sign} \\big( \\sum_{j = 1}^{i} \\beta_j \\phi (x^{(j)})^T \\phi (x^{(i + 1)}) \\big) \\\\\n",
    "                                      & = \\mathrm{sign} \\big( \\sum_{j = 1}^{i} \\beta_j \\langle \\phi (x^{(j)}) , \\phi (x^{(i + 1)}) \\rangle \\big) \\\\\n",
    "                                      & = \\mathrm{sign} \\big( \\sum_{j = 1}^{i} \\beta_j K(x^{(j)}, x^{(i + 1)}) \\big)\n",
    "\\end{align*}"
   ],
   "metadata": {
    "collapsed": false,
    "pycharm": {
     "name": "#%% md\n"
    }
   }
  },
  {
   "cell_type": "markdown",
   "source": [
    "##### iii."
   ],
   "metadata": {
    "collapsed": false,
    "pycharm": {
     "name": "#%% md\n"
    }
   }
  },
  {
   "cell_type": "markdown",
   "source": [
    "\\begin{align*}\n",
    "\\theta^{(i + 1)} : & = \\theta^{(i)} + \\alpha \\big( y^{(i + 1)} - h_{\\theta^{(i)}} (\\phi (x^{(i + 1)})) \\big) \\phi (x^{(i + 1)}) \\\\\n",
    "                   & = \\sum_{j = 1}^{i} \\beta_j \\phi (x^{(j)}) + \\underbrace{\\alpha ( y^{(i + 1)} - \\mathrm{sign} \\big( \\sum_{j = 1}^{i} \\beta_j K(x^{(j)}, x^{(i + 1)}) \\big) )}_{\\beta_{i + 1}} \\phi (x^{(i + 1)}) \\\\\n",
    "                   & = \\sum_{j = 1}^{i + 1} \\beta_j \\phi (x^{(j)})\n",
    "\\end{align*}\n",
    "\n",
    "Therefore, the new update rule is:\n",
    "\n",
    "$$\\beta_{i + 1} := \\alpha ( y^{(i + 1)} - \\mathrm{sign} \\big( \\sum_{j = 1}^{i} \\beta_j K(x^{(j)}, x^{(i + 1)}) \\big) )$$"
   ],
   "metadata": {
    "collapsed": false,
    "pycharm": {
     "name": "#%% md\n"
    }
   }
  },
  {
   "cell_type": "markdown",
   "source": [
    "#### (b)"
   ],
   "metadata": {
    "collapsed": false,
    "pycharm": {
     "name": "#%% md\n"
    }
   }
  },
  {
   "cell_type": "code",
   "source": [
    "def initial_state():\n",
    "    \"\"\"Return the initial state for the perceptron.\n",
    "\n",
    "    Returns:\n",
    "        An array of tuples. Each tuple comprises a training example and the corresponding `beta`.\n",
    "    \"\"\"\n",
    "    return []"
   ],
   "metadata": {
    "collapsed": false,
    "pycharm": {
     "name": "#%% code\n"
    },
    "ExecuteTime": {
     "end_time": "2025-07-09T04:02:12.718766Z",
     "start_time": "2025-07-09T04:02:12.712616Z"
    }
   },
   "outputs": [],
   "execution_count": 13
  },
  {
   "cell_type": "code",
   "source": [
    "def predict(state, kernel, x_i):\n",
    "    \"\"\"Perform a prediction on a given instance x_i given the current state and the kernel.\n",
    "\n",
    "    Args:\n",
    "        state: The state returned from initial_state()\n",
    "        kernel: A binary function that takes two vectors as input and returns the result of a kernel\n",
    "        x_i: A vector containing the features for a single instance\n",
    "\n",
    "    Returns:\n",
    "        Returns the prediction (i.e 0 or 1)\n",
    "    \"\"\"\n",
    "    return sign(sum(beta * kernel(x, x_i) for beta, x in state))"
   ],
   "metadata": {
    "collapsed": false,
    "pycharm": {
     "name": "#%% code\n"
    },
    "ExecuteTime": {
     "end_time": "2025-07-09T04:02:12.784264Z",
     "start_time": "2025-07-09T04:02:12.778016Z"
    }
   },
   "outputs": [],
   "execution_count": 14
  },
  {
   "cell_type": "code",
   "source": [
    "def update_state(state, kernel, learning_rate, x_i, y_i):\n",
    "    \"\"\"Updates the state of the perceptron.\n",
    "\n",
    "    Args:\n",
    "        state: The state returned from initial_state()\n",
    "        kernel: A binary function that takes two vectors as input and returns the result of a kernel\n",
    "        learning_rate: The learning rate for the update\n",
    "        x_i: A vector containing the features for a single instance\n",
    "        y_i: A 0 or 1 indicating the label for a single instance\n",
    "    \"\"\"\n",
    "    beta_i = learning_rate * (y_i - sign(sum(beta * kernel(x, x_i) for beta, x in state)))\n",
    "    state.append((beta_i, x_i))"
   ],
   "metadata": {
    "collapsed": false,
    "pycharm": {
     "name": "#%% code\n"
    },
    "ExecuteTime": {
     "end_time": "2025-07-09T04:02:12.846187Z",
     "start_time": "2025-07-09T04:02:12.839904Z"
    }
   },
   "outputs": [],
   "execution_count": 15
  },
  {
   "cell_type": "markdown",
   "source": [
    "#### (c)"
   ],
   "metadata": {
    "collapsed": false,
    "pycharm": {
     "name": "#%% md\n"
    }
   }
  },
  {
   "cell_type": "markdown",
   "source": [
    "Copy over the remaining code from `p05_percept.py` (no change on logic):"
   ],
   "metadata": {
    "collapsed": false,
    "pycharm": {
     "name": "#%% md\n"
    }
   }
  },
  {
   "cell_type": "code",
   "source": [
    "import math\n",
    "\n",
    "import matplotlib.pyplot as plt\n",
    "import numpy as np\n",
    "\n",
    "import Full_Problem_Set.PS2.src.util as util\n",
    "\n",
    "\n",
    "def sign(a):\n",
    "    \"\"\"Gets the sign of a scalar input.\"\"\"\n",
    "    if a >= 0:\n",
    "        return 1\n",
    "    else:\n",
    "        return 0\n",
    "\n",
    "\n",
    "def dot_kernel(a, b):\n",
    "    \"\"\"An implementation of a dot product kernel.\n",
    "\n",
    "    Args:\n",
    "        a: A vector\n",
    "        b: A vector\n",
    "    \"\"\"\n",
    "    return np.dot(a, b)\n",
    "\n",
    "\n",
    "def rbf_kernel(a, b, sigma=1):\n",
    "    \"\"\"An implementation of the radial basis function kernel.\n",
    "\n",
    "    Args:\n",
    "        a: A vector\n",
    "        b: A vector\n",
    "        sigma: The radius of the kernel\n",
    "    \"\"\"\n",
    "    distance = (a - b).dot(a - b)\n",
    "    scaled_distance = -distance / (2 * (sigma) ** 2)\n",
    "    return math.exp(scaled_distance)\n",
    "\n",
    "\n",
    "def train_perceptron(kernel_name, kernel, learning_rate):\n",
    "    \"\"\"Train a perceptron with the given kernel.\n",
    "\n",
    "    This function trains a perceptron with a given kernel and then\n",
    "    uses that perceptron to make predictions.\n",
    "    The output predictions are saved to src/output/p05_{kernel_name}_predictions.txt.\n",
    "    The output plots are saved to src/output_{kernel_name}_output.pdf.\n",
    "\n",
    "    Args:\n",
    "        kernel_name: The name of the kernel.\n",
    "        kernel: The kernel function.\n",
    "        learning_rate: The learning rate for training.\n",
    "    \"\"\"\n",
    "    train_x, train_y = util.load_csv('/home/anhnt02/Desktop/CS229-Fall2018-FullCourse/Full_Problem_Set/PS2/data/ds5_train.csv')\n",
    "\n",
    "    state = initial_state()\n",
    "\n",
    "    for x_i, y_i in zip(train_x, train_y):\n",
    "        update_state(state, kernel, learning_rate, x_i, y_i)\n",
    "\n",
    "    test_x, test_y = util.load_csv('/home/anhnt02/Desktop/CS229-Fall2018-FullCourse/Full_Problem_Set/PS2/data/ds5_test.csv')\n",
    "\n",
    "    plt.figure(figsize=(12, 8))\n",
    "    util.plot_contour(lambda a: predict(state, kernel, a))\n",
    "    util.plot_points(test_x, test_y)\n",
    "\n",
    "\n",
    "train_perceptron('dot', dot_kernel, 0.5)\n",
    "train_perceptron('rbf', rbf_kernel, 0.5)"
   ],
   "metadata": {
    "collapsed": false,
    "pycharm": {
     "name": "#%% code\n"
    },
    "ExecuteTime": {
     "end_time": "2025-07-09T04:02:14.876571Z",
     "start_time": "2025-07-09T04:02:12.903964Z"
    }
   },
   "outputs": [
    {
     "data": {
      "text/plain": [
       "<Figure size 864x576 with 1 Axes>"
      ],
      "image/png": "[encoded data removed]"
     },
     "metadata": {
      "needs_background": "light"
     },
     "output_type": "display_data"
    },
    {
     "data": {
      "text/plain": [
       "<Figure size 864x576 with 1 Axes>"
      ],
      "image/png": "[encoded data removed]"
     },
     "metadata": {
      "needs_background": "light"
     },
     "output_type": "display_data"
    }
   ],
   "execution_count": 16
  },
  {
   "cell_type": "markdown",
   "source": [
    "For the product kernel, there is no feature mapping for the input attributes. In other words, the model is still linear\n",
    "after applying the product kernel. As a consequence, it performs badly on the data that are not linearly separable."
   ],
   "metadata": {
    "collapsed": false,
    "pycharm": {
     "name": "#%% md\n"
    }
   }
  }
 ],
 "metadata": {
  "kernelspec": {
   "name": "cs229",
   "language": "python",
   "display_name": "cs229"
  },
  "language_info": {
   "codemirror_mode": {
    "name": "ipython",
    "version": 2
   },
   "file_extension": ".py",
   "mimetype": "text/x-python",
   "name": "python",
   "nbconvert_exporter": "python",
   "pygments_lexer": "ipython2",
   "version": "2.7.6"
  }
 },
 "nbformat": 4,
 "nbformat_minor": 0
}
