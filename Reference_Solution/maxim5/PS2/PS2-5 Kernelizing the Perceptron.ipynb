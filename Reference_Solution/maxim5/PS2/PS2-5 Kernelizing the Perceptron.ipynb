{
 "cells": [
  {
   "cell_type": "markdown",
   "metadata": {
    "collapsed": true,
    "pycharm": {
     "name": "#%% md\n"
    }
   },
   "source": [
    "## PS2-5 Kernelizing the Perceptron"
   ]
  },
  {
   "cell_type": "markdown",
   "source": [
    "#### (a)"
   ],
   "metadata": {
    "collapsed": false,
    "pycharm": {
     "name": "#%% md\n"
    }
   }
  },
  {
   "cell_type": "markdown",
   "source": [
    "##### i."
   ],
   "metadata": {
    "collapsed": false,
    "pycharm": {
     "name": "#%% md\n"
    }
   }
  },
  {
   "cell_type": "markdown",
   "source": [
    "Recall the update rule\n",
    "\n",
    "$$\\theta^{(i + 1)} := \\theta^{(i)} + \\alpha \\big( y^{(i + 1)} - h_{\\theta^{(i)}} (\\phi (x^{(i + 1)})) \\big) \\phi (x^{(i + 1)})$$\n",
    "\n",
    "We can easily figure out that $\\theta^{(i)}$ is a linear combination of $\\phi (x^{(1)}), \\dots , \\phi (x^{(i)})$, that is\n",
    "\n",
    "\\begin{align*}\n",
    "\\theta^{(i)} & = \\sum_{j = 1}^{i} \\beta_j \\phi (x^{(j)}) \\\\\n",
    "\\theta^{(0)} & = \\vec{0}\n",
    "\\end{align*}"
   ],
   "metadata": {
    "collapsed": false,
    "pycharm": {
     "name": "#%% md\n"
    }
   }
  },
  {
   "cell_type": "markdown",
   "source": [
    "##### ii."
   ],
   "metadata": {
    "collapsed": false,
    "pycharm": {
     "name": "#%% md\n"
    }
   }
  },
  {
   "cell_type": "markdown",
   "source": [
    "\\begin{align*}\n",
    "h_{\\theta^{(i)}} (\\phi (x^{(i + 1)})) & = \\mathrm{sign} ((\\theta^{(i)})^T \\phi (x^{(i + 1)})) \\\\\n",
    "                                      & = \\mathrm{sign} \\big( \\sum_{j = 1}^{i} \\beta_j \\phi (x^{(j)})^T \\phi (x^{(i + 1)}) \\big) \\\\\n",
    "                                      & = \\mathrm{sign} \\big( \\sum_{j = 1}^{i} \\beta_j \\langle \\phi (x^{(j)}) , \\phi (x^{(i + 1)}) \\rangle \\big) \\\\\n",
    "                                      & = \\mathrm{sign} \\big( \\sum_{j = 1}^{i} \\beta_j K(x^{(j)}, x^{(i + 1)}) \\big)\n",
    "\\end{align*}"
   ],
   "metadata": {
    "collapsed": false,
    "pycharm": {
     "name": "#%% md\n"
    }
   }
  },
  {
   "cell_type": "markdown",
   "source": [
    "##### iii."
   ],
   "metadata": {
    "collapsed": false,
    "pycharm": {
     "name": "#%% md\n"
    }
   }
  },
  {
   "cell_type": "markdown",
   "source": [
    "\\begin{align*}\n",
    "\\theta^{(i + 1)} : & = \\theta^{(i)} + \\alpha \\big( y^{(i + 1)} - h_{\\theta^{(i)}} (\\phi (x^{(i + 1)})) \\big) \\phi (x^{(i + 1)}) \\\\\n",
    "                   & = \\sum_{j = 1}^{i} \\beta_j \\phi (x^{(j)}) + \\underbrace{\\alpha ( y^{(i + 1)} - \\mathrm{sign} \\big( \\sum_{j = 1}^{i} \\beta_j K(x^{(j)}, x^{(i + 1)}) \\big) )}_{\\beta_{i + 1}} \\phi (x^{(i + 1)}) \\\\\n",
    "                   & = \\sum_{j = 1}^{i + 1} \\beta_j \\phi (x^{(j)})\n",
    "\\end{align*}\n",
    "\n",
    "Therefore, the new update rule is:\n",
    "\n",
    "$$\\beta_{i + 1} := \\alpha ( y^{(i + 1)} - \\mathrm{sign} \\big( \\sum_{j = 1}^{i} \\beta_j K(x^{(j)}, x^{(i + 1)}) \\big) )$$"
   ],
   "metadata": {
    "collapsed": false,
    "pycharm": {
     "name": "#%% md\n"
    }
   }
  },
  {
   "cell_type": "markdown",
   "source": [
    "#### (b)"
   ],
   "metadata": {
    "collapsed": false,
    "pycharm": {
     "name": "#%% md\n"
    }
   }
  },
  {
   "cell_type": "code",
   "source": [
    "def initial_state():\n",
    "    \"\"\"Return the initial state for the perceptron.\n",
    "\n",
    "    Returns:\n",
    "        An array of tuples. Each tuple comprises a training example and the corresponding `beta`.\n",
    "    \"\"\"\n",
    "    return []"
   ],
   "metadata": {
    "collapsed": false,
    "pycharm": {
     "name": "#%% code\n"
    },
    "ExecuteTime": {
     "end_time": "2025-07-08T17:06:06.170369Z",
     "start_time": "2025-07-08T17:06:06.164474Z"
    }
   },
   "outputs": [],
   "execution_count": 9
  },
  {
   "cell_type": "code",
   "source": [
    "def predict(state, kernel, x_i):\n",
    "    \"\"\"Perform a prediction on a given instance x_i given the current state and the kernel.\n",
    "\n",
    "    Args:\n",
    "        state: The state returned from initial_state()\n",
    "        kernel: A binary function that takes two vectors as input and returns the result of a kernel\n",
    "        x_i: A vector containing the features for a single instance\n",
    "\n",
    "    Returns:\n",
    "        Returns the prediction (i.e 0 or 1)\n",
    "    \"\"\"\n",
    "    return sign(sum(beta * kernel(x, x_i) for beta, x in state))"
   ],
   "metadata": {
    "collapsed": false,
    "pycharm": {
     "name": "#%% code\n"
    },
    "ExecuteTime": {
     "end_time": "2025-07-08T17:06:06.200377Z",
     "start_time": "2025-07-08T17:06:06.194883Z"
    }
   },
   "outputs": [],
   "execution_count": 10
  },
  {
   "cell_type": "code",
   "source": [
    "def update_state(state, kernel, learning_rate, x_i, y_i):\n",
    "    \"\"\"Updates the state of the perceptron.\n",
    "\n",
    "    Args:\n",
    "        state: The state returned from initial_state()\n",
    "        kernel: A binary function that takes two vectors as input and returns the result of a kernel\n",
    "        learning_rate: The learning rate for the update\n",
    "        x_i: A vector containing the features for a single instance\n",
    "        y_i: A 0 or 1 indicating the label for a single instance\n",
    "    \"\"\"\n",
    "    beta_i = learning_rate * (y_i - sign(sum(beta * kernel(x, x_i) for beta, x in state)))\n",
    "    state.append((beta_i, x_i))"
   ],
   "metadata": {
    "collapsed": false,
    "pycharm": {
     "name": "#%% code\n"
    },
    "ExecuteTime": {
     "end_time": "2025-07-08T17:06:06.259971Z",
     "start_time": "2025-07-08T17:06:06.254036Z"
    }
   },
   "outputs": [],
   "execution_count": 11
  },
  {
   "cell_type": "markdown",
   "source": [
    "#### (c)"
   ],
   "metadata": {
    "collapsed": false,
    "pycharm": {
     "name": "#%% md\n"
    }
   }
  },
  {
   "cell_type": "markdown",
   "source": [
    "Copy over the remaining code from `p05_percept.py` (no change on logic):"
   ],
   "metadata": {
    "collapsed": false,
    "pycharm": {
     "name": "#%% md\n"
    }
   }
  },
  {
   "cell_type": "code",
   "source": [
    "import math\n",
    "\n",
    "import matplotlib.pyplot as plt\n",
    "import numpy as np\n",
    "\n",
    "import Full_Problem_Set.PS2.src.util as util\n",
    "\n",
    "\n",
    "def sign(a):\n",
    "    \"\"\"Gets the sign of a scalar input.\"\"\"\n",
    "    if a >= 0:\n",
    "        return 1\n",
    "    else:\n",
    "        return 0\n",
    "\n",
    "\n",
    "def dot_kernel(a, b):\n",
    "    \"\"\"An implementation of a dot product kernel.\n",
    "\n",
    "    Args:\n",
    "        a: A vector\n",
    "        b: A vector\n",
    "    \"\"\"\n",
    "    return np.dot(a, b)\n",
    "\n",
    "\n",
    "def rbf_kernel(a, b, sigma=1):\n",
    "    \"\"\"An implementation of the radial basis function kernel.\n",
    "\n",
    "    Args:\n",
    "        a: A vector\n",
    "        b: A vector\n",
    "        sigma: The radius of the kernel\n",
    "    \"\"\"\n",
    "    distance = (a - b).dot(a - b)\n",
    "    scaled_distance = -distance / (2 * (sigma) ** 2)\n",
    "    return math.exp(scaled_distance)\n",
    "\n",
    "\n",
    "def train_perceptron(kernel_name, kernel, learning_rate):\n",
    "    \"\"\"Train a perceptron with the given kernel.\n",
    "\n",
    "    This function trains a perceptron with a given kernel and then\n",
    "    uses that perceptron to make predictions.\n",
    "    The output predictions are saved to src/output/p05_{kernel_name}_predictions.txt.\n",
    "    The output plots are saved to src/output_{kernel_name}_output.pdf.\n",
    "\n",
    "    Args:\n",
    "        kernel_name: The name of the kernel.\n",
    "        kernel: The kernel function.\n",
    "        learning_rate: The learning rate for training.\n",
    "    \"\"\"\n",
    "    train_x, train_y = util.load_csv('/home/anhnt02/Desktop/CS229-Fall2018-FullCourse/Full_Problem_Set/PS2/data/ds5_train.csv')\n",
    "\n",
    "    state = initial_state()\n",
    "\n",
    "    for x_i, y_i in zip(train_x, train_y):\n",
    "        update_state(state, kernel, learning_rate, x_i, y_i)\n",
    "\n",
    "    print(state)\n",
    "\n",
    "    test_x, test_y = util.load_csv('/home/anhnt02/Desktop/CS229-Fall2018-FullCourse/Full_Problem_Set/PS2/data/ds5_train.csv')\n",
    "\n",
    "    plt.figure(figsize=(12, 8))\n",
    "    util.plot_contour(lambda a: predict(state, kernel, a))\n",
    "    util.plot_points(test_x, test_y)\n",
    "\n",
    "\n",
    "train_perceptron('dot', dot_kernel, 0.5)\n",
    "train_perceptron('rbf', rbf_kernel, 0.5)"
   ],
   "metadata": {
    "collapsed": false,
    "pycharm": {
     "name": "#%% code\n"
    },
    "ExecuteTime": {
     "end_time": "2025-07-08T17:06:08.510708Z",
     "start_time": "2025-07-08T17:06:06.314010Z"
    }
   },
   "outputs": [
    {
     "name": "stdout",
     "output_type": "stream",
     "text": [
      "[(-0.5, array([2.04587904, 0.52757714])), (0.0, array([ 3.14129693, -2.71099377])), (0.0, array([ 2.02440785, -2.42131824])), (-0.5, array([-2.83969822, -0.46102652])), (0.0, array([-0.77556451, -2.29749399])), (0.0, array([-3.72374042, -0.67550183])), (0.5, array([-0.67728606,  0.14388208])), (0.0, array([ 1.37260982, -2.85803012])), (0.5, array([ 0.03976677, -0.4885106 ])), (0.0, array([ 0.4383315 , -0.71828796])), (0.0, array([-1.85207803, -0.65383539])), (0.0, array([2.92588902, 2.32736734])), (0.5, array([0.86701989, 0.48066226])), (0.0, array([ 0.71236747, -0.17301223])), (0.5, array([-0.30327083, -0.82582528])), (0.0, array([-0.91488084,  4.37914357])), (0.0, array([2.17158528, 4.30901123])), (0.0, array([-2.59806941,  4.55298739])), (0.0, array([0.05401978, 0.01675714])), (-0.5, array([-1.13872978, -4.36264007])), (0.0, array([-3.39937651, -1.86944479])), (-0.5, array([1.82102174, 2.94552442])), (0.5, array([-0.26834319, -0.26198483])), (0.0, array([3.91298381, 1.56322198])), (0.0, array([-0.21236782,  1.22812213])), (0.0, array([-0.02234472,  0.32255715])), (0.0, array([-0.08280275, -0.00955458])), (0.5, array([-0.80722208, -1.15587852])), (-0.5, array([-5.07617565, -0.91441222])), (0.0, array([ 0.53065552, -0.57959264])), (0.0, array([-0.5999148 ,  4.47439768])), (0.0, array([ 1.01664686, -0.14613162])), (0.5, array([-0.09665212,  0.21027029])), (0.5, array([-0.30607032, -0.40031462])), (-0.5, array([ 2.05106314, -1.81269475])), (0.5, array([-0.91504906, -0.33882853])), (0.0, array([ 1.29915757, -3.64569616])), (0.0, array([ 2.46008925, -3.62392031])), (0.0, array([-0.68557967,  0.47588434])), (0.5, array([-0.94355931, -0.33050955])), (-0.5, array([-0.08885381,  2.14040261])), (-0.5, array([-3.912273  , -4.42245887])), (0.5, array([-0.92543723, -1.5948674 ])), (0.0, array([ 0.61560065, -0.43561066])), (0.5, array([ 0.12719695, -1.03164532])), (0.5, array([-0.29884352,  0.34376088])), (0.0, array([ 0.50081752, -0.31286662])), (-0.5, array([-0.58681789,  4.15225675])), (0.5, array([-0.68764035,  0.52702569])), (-0.5, array([ 2.26543326, -2.83984916])), (0.0, array([ 1.18416718, -0.91879495])), (-0.5, array([2.80862561, 1.31302377])), (0.0, array([ 3.09061624, -3.31856952])), (0.0, array([-0.44479573, -0.62614908])), (0.5, array([ 0.44457102, -0.32005284])), (-0.5, array([-0.67009663, -3.2935277 ])), (0.0, array([-2.33003035, -4.73762782])), (0.5, array([-0.02104487, -0.95972121])), (0.5, array([ 0.0319832 , -0.03074769])), (-0.5, array([-4.57845336,  0.31036316])), (0.0, array([0.0710339 , 0.00410881])), (0.5, array([-2.22223063,  0.65484685])), (-0.5, array([-1.40329947,  4.2913683 ])), (0.0, array([-1.56687577,  4.86734664])), (0.0, array([-2.71298513, -0.27876607])), (0.0, array([ 0.15074148, -0.12724824])), (-0.5, array([ 2.72507949, -5.80853047])), (0.0, array([0.79077922, 0.97436928])), (0.5, array([-0.87918287, -0.69861137])), (-0.5, array([-3.28744121,  2.54966167])), (0.0, array([-4.42852666, -2.03096958])), (0.5, array([-0.30814401, -0.21436081])), (-0.5, array([ 0.52266081, -3.37892706])), (-0.5, array([ 5.15274695, -1.55720009])), (0.0, array([4.61850994, 3.06678167])), (-0.5, array([-1.83356794,  3.4029843 ])), (-0.5, array([-3.65676736, -1.55787086])), (0.5, array([ 0.21117486, -1.68289936])), (0.0, array([ 0.11290763, -3.48580769])), (0.0, array([-2.9906861,  2.6171753])), (-0.5, array([0.8496219 , 3.91678959])), (0.5, array([-0.62591202,  0.11720665])), (-0.5, array([ 3.2137815 , -3.07119231])), (0.0, array([-0.368851  , -1.29742652])), (0.5, array([1.76871981, 0.86564742])), (0.5, array([ 0.85933633, -1.8169806 ])), (0.5, array([ 1.36700724, -0.25685376])), (0.0, array([ 0.02031412, -0.08616145])), (0.5, array([1.0981478 , 1.02090587])), (-0.5, array([4.14636136, 3.70491685])), (-0.5, array([-4.5207127 , -2.07109354])), (-0.5, array([1.53316423, 0.58740688])), (-0.5, array([ 3.6987831, -0.004485 ])), (0.5, array([ 0.05532564, -0.00354986])), (0.0, array([-1.46262692,  1.15489674])), (0.0, array([3.99019654, 0.35202594])), (0.0, array([ 2.15798974, -2.33394494])), (0.0, array([-3.25990896,  4.49768051])), (-0.5, array([-3.62459931,  1.94520728])), (0.5, array([0.03816758, 0.40030688])), (0.0, array([ 0.7766873 , -0.36572639])), (0.0, array([2.97872819, 2.19274368])), (-0.5, array([ 0.72170966, -5.42537617])), (-0.5, array([3.88164584, 0.22211645])), (0.5, array([ 0.49660024, -0.08117614])), (0.0, array([-0.76407529,  0.19135733])), (-0.5, array([-4.30730167,  0.08933314])), (-0.5, array([0.63369711, 2.99109408])), (0.0, array([-0.2806463 , -0.38907733])), (0.5, array([0.98920987, 0.34336303])), (0.0, array([2.48176588, 2.66243981])), (0.5, array([-0.54409274, -0.51253173])), (0.5, array([-1.44064376, -0.65672882])), (0.0, array([ 2.78420409, -0.29045495])), (0.5, array([-0.15752595,  0.13840437])), (0.0, array([-0.5121965 , -0.53024654])), (0.0, array([-1.19964919, -0.12382084])), (0.0, array([1.93557537, 4.20616001])), (0.5, array([2.49747826, 1.63515431])), (0.0, array([ 0.8626028 , -0.09189673])), (0.0, array([-0.06939224, -0.2375229 ])), (0.5, array([-0.02247472,  0.27391945])), (0.0, array([-1.36268483,  3.84900075])), (0.0, array([ 0.34746424, -0.40733747])), (0.5, array([-0.23671434,  0.34255336])), (0.0, array([ 0.44342298, -0.48122056])), (-0.5, array([3.23093871, 1.19844166])), (0.0, array([-0.04106504,  0.03113658])), (-0.5, array([-2.79861429, -0.28529004])), (0.5, array([-1.79669819,  1.48050359])), (-0.5, array([-2.35208589,  4.28195017])), (0.5, array([-0.34780613,  2.09031167])), (-0.5, array([ 0.07478728, -3.77144757])), (0.0, array([0.08593374, 0.47094761])), (0.0, array([ 1.176689  , -2.54668261])), (0.0, array([0.51279158, 0.41108187])), (0.0, array([1.07451582, 1.64702826])), (-0.5, array([ 5.64531653, -0.50524615])), (0.0, array([3.72574525, 0.81812174])), (-0.5, array([0.09133659, 3.64814022])), (0.0, array([-0.29225162, -0.08565495])), (0.5, array([ 1.67264173, -0.65333747])), (0.5, array([ 1.02897417, -0.44632896])), (0.5, array([ 0.66594938, -0.1237097 ])), (0.5, array([-0.23405415,  1.26892283])), (0.0, array([ 0.28040305, -0.71619543])), (0.0, array([2.47614895, 2.40052523])), (0.0, array([ 3.60867572, -1.06682846])), (0.0, array([0.31112531, 3.00020901])), (-0.5, array([-2.97048111, -3.99391146])), (0.0, array([1.9238553 , 2.59504717])), (0.5, array([-0.96860204,  0.17628603])), (0.0, array([0.2630174 , 0.14547786])), (0.0, array([-1.52833926,  0.61645088])), (-0.5, array([-2.7081422 ,  4.27513679])), (0.0, array([ 0.15825905, -0.23976936])), (0.0, array([0.50138609, 0.2406311 ])), (-0.5, array([ 1.91151003, -3.06522442])), (0.0, array([-4.78736148, -1.1889313 ])), (-0.5, array([3.43535739, 1.46758949])), (0.0, array([ 2.29836358, -3.35833801])), (-0.5, array([-2.61475894, -4.86386159])), (0.0, array([0.99036291, 1.25777761])), (0.0, array([-2.0836809 , -3.09642496])), (0.5, array([ 0.27253191, -0.59338219])), (0.5, array([ 0.00728069, -0.08813805])), (0.0, array([ 0.32556521, -3.70225253])), (0.5, array([-0.95110234,  0.10525005])), (0.0, array([-1.31150656,  0.29223227])), (0.5, array([-0.03691746, -0.18248976])), (0.5, array([-1.5736694 , -0.88978749])), (-0.5, array([-3.31839417,  5.81467875])), (0.5, array([0.07345482, 0.61258883])), (0.5, array([0.94173638, 1.774675  ])), (0.5, array([-0.14221922,  0.3177357 ])), (-0.5, array([1.0311507 , 1.49285671])), (-0.5, array([ 0.86682369, -2.69496824])), (0.5, array([-0.77584432, -0.02198889])), (-0.5, array([-3.66589469,  0.70383549])), (-0.5, array([ 1.75465169, -3.85680429])), (-0.5, array([-4.00783135,  3.44128553])), (-0.5, array([2.09271456, 0.77063061])), (0.5, array([-0.75984901, -0.29435559])), (-0.5, array([ 2.34903459, -4.05649836])), (-0.5, array([4.26874716, 2.91414425])), (0.0, array([-0.42201502,  0.08491896])), (0.0, array([ 4.5274578 , -0.13417475])), (0.0, array([ 2.19253758, -3.27474652])), (0.5, array([ 0.45359066, -0.77626511])), (-0.5, array([-5.25735814, -1.67079211])), (-0.5, array([ 3.38353003, -2.31954277])), (0.0, array([0.34721133, 0.48822674])), (0.0, array([ 3.59422807, -1.97662504])), (0.5, array([ 1.04467684, -0.3720234 ])), (0.5, array([ 1.40150412, -0.5555431 ])), (0.5, array([ 0.13654073, -0.47625906])), (0.5, array([ 0.09294405, -0.04206039])), (0.5, array([ 0.59044303, -2.14730922])), (0.0, array([ 0.59885678, -0.39166076])), (0.0, array([0.01275453, 0.1335896 ]))]\n",
      "[(-0.5, array([2.04587904, 0.52757714])), (0.0, array([ 3.14129693, -2.71099377])), (0.0, array([ 2.02440785, -2.42131824])), (0.0, array([-2.83969822, -0.46102652])), (0.0, array([-0.77556451, -2.29749399])), (0.0, array([-3.72374042, -0.67550183])), (0.5, array([-0.67728606,  0.14388208])), (0.0, array([ 1.37260982, -2.85803012])), (0.0, array([ 0.03976677, -0.4885106 ])), (0.0, array([ 0.4383315 , -0.71828796])), (-0.5, array([-1.85207803, -0.65383539])), (0.0, array([2.92588902, 2.32736734])), (0.5, array([0.86701989, 0.48066226])), (0.0, array([ 0.71236747, -0.17301223])), (0.0, array([-0.30327083, -0.82582528])), (-0.5, array([-0.91488084,  4.37914357])), (0.0, array([2.17158528, 4.30901123])), (0.0, array([-2.59806941,  4.55298739])), (0.0, array([0.05401978, 0.01675714])), (0.0, array([-1.13872978, -4.36264007])), (0.0, array([-3.39937651, -1.86944479])), (0.0, array([1.82102174, 2.94552442])), (0.0, array([-0.26834319, -0.26198483])), (0.0, array([3.91298381, 1.56322198])), (0.0, array([-0.21236782,  1.22812213])), (0.0, array([-0.02234472,  0.32255715])), (0.0, array([-0.08280275, -0.00955458])), (0.5, array([-0.80722208, -1.15587852])), (0.0, array([-5.07617565, -0.91441222])), (0.0, array([ 0.53065552, -0.57959264])), (0.0, array([-0.5999148 ,  4.47439768])), (0.0, array([ 1.01664686, -0.14613162])), (0.0, array([-0.09665212,  0.21027029])), (0.0, array([-0.30607032, -0.40031462])), (0.0, array([ 2.05106314, -1.81269475])), (0.0, array([-0.91504906, -0.33882853])), (-0.5, array([ 1.29915757, -3.64569616])), (0.0, array([ 2.46008925, -3.62392031])), (0.0, array([-0.68557967,  0.47588434])), (0.0, array([-0.94355931, -0.33050955])), (-0.5, array([-0.08885381,  2.14040261])), (0.0, array([-3.912273  , -4.42245887])), (0.0, array([-0.92543723, -1.5948674 ])), (0.0, array([ 0.61560065, -0.43561066])), (0.0, array([ 0.12719695, -1.03164532])), (0.0, array([-0.29884352,  0.34376088])), (0.0, array([ 0.50081752, -0.31286662])), (0.0, array([-0.58681789,  4.15225675])), (0.0, array([-0.68764035,  0.52702569])), (0.0, array([ 2.26543326, -2.83984916])), (0.0, array([ 1.18416718, -0.91879495])), (0.0, array([2.80862561, 1.31302377])), (0.0, array([ 3.09061624, -3.31856952])), (0.0, array([-0.44479573, -0.62614908])), (0.0, array([ 0.44457102, -0.32005284])), (0.0, array([-0.67009663, -3.2935277 ])), (0.0, array([-2.33003035, -4.73762782])), (0.0, array([-0.02104487, -0.95972121])), (0.0, array([ 0.0319832 , -0.03074769])), (0.0, array([-4.57845336,  0.31036316])), (0.0, array([0.0710339 , 0.00410881])), (0.5, array([-2.22223063,  0.65484685])), (0.0, array([-1.40329947,  4.2913683 ])), (0.0, array([-1.56687577,  4.86734664])), (-0.5, array([-2.71298513, -0.27876607])), (0.0, array([ 0.15074148, -0.12724824])), (0.0, array([ 2.72507949, -5.80853047])), (0.0, array([0.79077922, 0.97436928])), (0.0, array([-0.87918287, -0.69861137])), (-0.5, array([-3.28744121,  2.54966167])), (0.0, array([-4.42852666, -2.03096958])), (0.0, array([-0.30814401, -0.21436081])), (0.0, array([ 0.52266081, -3.37892706])), (0.0, array([ 5.15274695, -1.55720009])), (0.0, array([4.61850994, 3.06678167])), (0.0, array([-1.83356794,  3.4029843 ])), (0.0, array([-3.65676736, -1.55787086])), (0.0, array([ 0.21117486, -1.68289936])), (0.0, array([ 0.11290763, -3.48580769])), (0.0, array([-2.9906861,  2.6171753])), (0.0, array([0.8496219 , 3.91678959])), (0.0, array([-0.62591202,  0.11720665])), (0.0, array([ 3.2137815 , -3.07119231])), (0.0, array([-0.368851  , -1.29742652])), (0.5, array([1.76871981, 0.86564742])), (0.0, array([ 0.85933633, -1.8169806 ])), (0.0, array([ 1.36700724, -0.25685376])), (0.0, array([ 0.02031412, -0.08616145])), (0.0, array([1.0981478 , 1.02090587])), (-0.5, array([4.14636136, 3.70491685])), (0.0, array([-4.5207127 , -2.07109354])), (-0.5, array([1.53316423, 0.58740688])), (0.0, array([ 3.6987831, -0.004485 ])), (0.0, array([ 0.05532564, -0.00354986])), (0.0, array([-1.46262692,  1.15489674])), (0.0, array([3.99019654, 0.35202594])), (0.0, array([ 2.15798974, -2.33394494])), (0.0, array([-3.25990896,  4.49768051])), (0.0, array([-3.62459931,  1.94520728])), (0.0, array([0.03816758, 0.40030688])), (0.0, array([ 0.7766873 , -0.36572639])), (0.0, array([2.97872819, 2.19274368])), (0.0, array([ 0.72170966, -5.42537617])), (0.0, array([3.88164584, 0.22211645])), (0.0, array([ 0.49660024, -0.08117614])), (0.0, array([-0.76407529,  0.19135733])), (0.0, array([-4.30730167,  0.08933314])), (0.0, array([0.63369711, 2.99109408])), (0.0, array([-0.2806463 , -0.38907733])), (0.0, array([0.98920987, 0.34336303])), (0.0, array([2.48176588, 2.66243981])), (0.0, array([-0.54409274, -0.51253173])), (0.0, array([-1.44064376, -0.65672882])), (0.0, array([ 2.78420409, -0.29045495])), (0.0, array([-0.15752595,  0.13840437])), (0.0, array([-0.5121965 , -0.53024654])), (0.0, array([-1.19964919, -0.12382084])), (0.0, array([1.93557537, 4.20616001])), (0.5, array([2.49747826, 1.63515431])), (0.0, array([ 0.8626028 , -0.09189673])), (0.0, array([-0.06939224, -0.2375229 ])), (0.0, array([-0.02247472,  0.27391945])), (0.0, array([-1.36268483,  3.84900075])), (0.0, array([ 0.34746424, -0.40733747])), (0.0, array([-0.23671434,  0.34255336])), (0.0, array([ 0.44342298, -0.48122056])), (-0.5, array([3.23093871, 1.19844166])), (0.0, array([-0.04106504,  0.03113658])), (0.0, array([-2.79861429, -0.28529004])), (0.0, array([-1.79669819,  1.48050359])), (0.0, array([-2.35208589,  4.28195017])), (0.5, array([-0.34780613,  2.09031167])), (0.0, array([ 0.07478728, -3.77144757])), (0.0, array([0.08593374, 0.47094761])), (0.0, array([ 1.176689  , -2.54668261])), (0.0, array([0.51279158, 0.41108187])), (0.0, array([1.07451582, 1.64702826])), (0.0, array([ 5.64531653, -0.50524615])), (0.0, array([3.72574525, 0.81812174])), (0.0, array([0.09133659, 3.64814022])), (0.0, array([-0.29225162, -0.08565495])), (0.5, array([ 1.67264173, -0.65333747])), (0.0, array([ 1.02897417, -0.44632896])), (0.0, array([ 0.66594938, -0.1237097 ])), (0.0, array([-0.23405415,  1.26892283])), (0.0, array([ 0.28040305, -0.71619543])), (-0.5, array([2.47614895, 2.40052523])), (-0.5, array([ 3.60867572, -1.06682846])), (0.0, array([0.31112531, 3.00020901])), (0.0, array([-2.97048111, -3.99391146])), (0.5, array([1.9238553 , 2.59504717])), (0.0, array([-0.96860204,  0.17628603])), (0.0, array([0.2630174 , 0.14547786])), (0.0, array([-1.52833926,  0.61645088])), (0.0, array([-2.7081422 ,  4.27513679])), (0.0, array([ 0.15825905, -0.23976936])), (0.0, array([0.50138609, 0.2406311 ])), (0.0, array([ 1.91151003, -3.06522442])), (0.0, array([-4.78736148, -1.1889313 ])), (0.0, array([3.43535739, 1.46758949])), (0.0, array([ 2.29836358, -3.35833801])), (0.0, array([-2.61475894, -4.86386159])), (0.0, array([0.99036291, 1.25777761])), (-0.5, array([-2.0836809 , -3.09642496])), (0.0, array([ 0.27253191, -0.59338219])), (0.0, array([ 0.00728069, -0.08813805])), (0.0, array([ 0.32556521, -3.70225253])), (0.0, array([-0.95110234,  0.10525005])), (0.0, array([-1.31150656,  0.29223227])), (0.0, array([-0.03691746, -0.18248976])), (0.5, array([-1.5736694 , -0.88978749])), (0.0, array([-3.31839417,  5.81467875])), (0.0, array([0.07345482, 0.61258883])), (0.0, array([0.94173638, 1.774675  ])), (0.0, array([-0.14221922,  0.3177357 ])), (-0.5, array([1.0311507 , 1.49285671])), (0.0, array([ 0.86682369, -2.69496824])), (0.0, array([-0.77584432, -0.02198889])), (0.0, array([-3.66589469,  0.70383549])), (0.0, array([ 1.75465169, -3.85680429])), (0.0, array([-4.00783135,  3.44128553])), (0.0, array([2.09271456, 0.77063061])), (0.0, array([-0.75984901, -0.29435559])), (0.0, array([ 2.34903459, -4.05649836])), (0.0, array([4.26874716, 2.91414425])), (0.0, array([-0.42201502,  0.08491896])), (0.0, array([ 4.5274578 , -0.13417475])), (0.0, array([ 2.19253758, -3.27474652])), (0.0, array([ 0.45359066, -0.77626511])), (0.0, array([-5.25735814, -1.67079211])), (0.0, array([ 3.38353003, -2.31954277])), (0.0, array([0.34721133, 0.48822674])), (0.0, array([ 3.59422807, -1.97662504])), (0.0, array([ 1.04467684, -0.3720234 ])), (0.0, array([ 1.40150412, -0.5555431 ])), (0.0, array([ 0.13654073, -0.47625906])), (0.0, array([ 0.09294405, -0.04206039])), (0.0, array([ 0.59044303, -2.14730922])), (0.0, array([ 0.59885678, -0.39166076])), (0.0, array([0.01275453, 0.1335896 ]))]\n"
     ]
    },
    {
     "data": {
      "text/plain": [
       "<Figure size 864x576 with 1 Axes>"
      ],
      "image/png": "[encoded data removed]"
     },
     "metadata": {
      "needs_background": "light"
     },
     "output_type": "display_data"
    },
    {
     "data": {
      "text/plain": [
       "<Figure size 864x576 with 1 Axes>"
      ],
      "image/png": "[encoded data removed]"
     },
     "metadata": {
      "needs_background": "light"
     },
     "output_type": "display_data"
    }
   ],
   "execution_count": 12
  },
  {
   "cell_type": "markdown",
   "source": [
    "For the product kernel, there is no feature mapping for the input attributes. In other words, the model is still linear\n",
    "after applying the product kernel. As a consequence, it performs badly on the data that are not linearly separable."
   ],
   "metadata": {
    "collapsed": false,
    "pycharm": {
     "name": "#%% md\n"
    }
   }
  }
 ],
 "metadata": {
  "kernelspec": {
   "name": "cs229",
   "language": "python",
   "display_name": "cs229"
  },
  "language_info": {
   "codemirror_mode": {
    "name": "ipython",
    "version": 2
   },
   "file_extension": ".py",
   "mimetype": "text/x-python",
   "name": "python",
   "nbconvert_exporter": "python",
   "pygments_lexer": "ipython2",
   "version": "2.7.6"
  }
 },
 "nbformat": 4,
 "nbformat_minor": 0
}
